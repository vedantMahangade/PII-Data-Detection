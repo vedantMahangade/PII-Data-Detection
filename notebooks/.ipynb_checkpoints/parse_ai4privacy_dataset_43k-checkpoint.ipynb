{
 "cells": [
  {
   "cell_type": "code",
   "execution_count": 1,
   "metadata": {},
   "outputs": [],
   "source": [
    "import numpy as np\n",
    "import pandas as pd\n",
    "from datasets import load_dataset\n",
    "import re\n",
    "import sys\n",
    "sys.path.insert(0, '../src')\n",
    "from dict import replacement_dict"
   ]
  },
  {
   "cell_type": "code",
   "execution_count": 2,
   "metadata": {},
   "outputs": [],
   "source": [
    "dataset = load_dataset(\"json\", data_files=\"../data/english_balanced_10k.jsonl\", split=\"train\")"
   ]
  },
  {
   "cell_type": "code",
   "execution_count": 3,
   "metadata": {},
   "outputs": [
    {
     "data": {
      "text/plain": [
       "Dataset({\n",
       "    features: ['masked_text', 'unmasked_text', 'token_entity_labels', 'tokenised_unmasked_text'],\n",
       "    num_rows: 10912\n",
       "})"
      ]
     },
     "execution_count": 3,
     "metadata": {},
     "output_type": "execute_result"
    }
   ],
   "source": [
    "dataset"
   ]
  },
  {
   "cell_type": "code",
   "execution_count": 4,
   "metadata": {},
   "outputs": [
    {
     "name": "stdout",
     "output_type": "stream",
     "text": [
      "{'masked_text': \"[PREFIX_1] [FIRSTNAME_1] [MIDDLENAME_1] [LASTNAME_1], as a [JOBDESCRIPTOR_1] [JOBTITLE_1] at [COMPANY_NAME_1], your knowledge of change management is vital for our company's transformation. We request you to create a change management strategy.\", 'unmasked_text': \"Mr. Adolphus Reagan Ziemann, as a Central Principal Applications Executive at McLaughlin, Nader and Purdy, your knowledge of change management is vital for our company's transformation. We request you to create a change management strategy.\", 'token_entity_labels': ['B-PREFIX', 'I-PREFIX', 'B-FIRSTNAME', 'I-FIRSTNAME', 'B-MIDDLENAME', 'B-LASTNAME', 'I-LASTNAME', 'I-LASTNAME', 'O', 'O', 'O', 'B-JOBDESCRIPTOR', 'B-JOBTITLE', 'I-JOBTITLE', 'I-JOBTITLE', 'O', 'B-COMPANY_NAME', 'I-COMPANY_NAME', 'I-COMPANY_NAME', 'I-COMPANY_NAME', 'I-COMPANY_NAME', 'I-COMPANY_NAME', 'I-COMPANY_NAME', 'O', 'O', 'O', 'O', 'O', 'O', 'O', 'O', 'O', 'O', 'O', 'O', 'O', 'O', 'O', 'O', 'O', 'O', 'O', 'O', 'O', 'O', 'O', 'O', 'O'], 'tokenised_unmasked_text': ['mr', '.', 'adolph', '##us', 'reagan', 'z', '##ie', '##mann', ',', 'as', 'a', 'central', 'principal', 'applications', 'executive', 'at', 'mclaughlin', ',', 'nad', '##er', 'and', 'pu', '##rdy', ',', 'your', 'knowledge', 'of', 'change', 'management', 'is', 'vital', 'for', 'our', 'company', \"'\", 's', 'transformation', '.', 'we', 'request', 'you', 'to', 'create', 'a', 'change', 'management', 'strategy', '.']}\n"
     ]
    }
   ],
   "source": [
    "print(dataset[0])"
   ]
  },
  {
   "cell_type": "code",
   "execution_count": 5,
   "metadata": {},
   "outputs": [
    {
     "data": {
      "text/html": [
       "<div>\n",
       "<style scoped>\n",
       "    .dataframe tbody tr th:only-of-type {\n",
       "        vertical-align: middle;\n",
       "    }\n",
       "\n",
       "    .dataframe tbody tr th {\n",
       "        vertical-align: top;\n",
       "    }\n",
       "\n",
       "    .dataframe thead th {\n",
       "        text-align: right;\n",
       "    }\n",
       "</style>\n",
       "<table border=\"1\" class=\"dataframe\">\n",
       "  <thead>\n",
       "    <tr style=\"text-align: right;\">\n",
       "      <th></th>\n",
       "      <th>masked_text</th>\n",
       "      <th>unmasked_text</th>\n",
       "      <th>token_entity_labels</th>\n",
       "      <th>tokenised_unmasked_text</th>\n",
       "    </tr>\n",
       "  </thead>\n",
       "  <tbody>\n",
       "    <tr>\n",
       "      <th>0</th>\n",
       "      <td>[PREFIX_1] [FIRSTNAME_1] [MIDDLENAME_1] [LASTN...</td>\n",
       "      <td>Mr. Adolphus Reagan Ziemann, as a Central Prin...</td>\n",
       "      <td>[B-PREFIX, I-PREFIX, B-FIRSTNAME, I-FIRSTNAME,...</td>\n",
       "      <td>[mr, ., adolph, ##us, reagan, z, ##ie, ##mann,...</td>\n",
       "    </tr>\n",
       "    <tr>\n",
       "      <th>1</th>\n",
       "      <td>Hello [FIRSTNAME_1], would you please investig...</td>\n",
       "      <td>Hello Hannah, would you please investigate the...</td>\n",
       "      <td>[O, B-FIRSTNAME, O, O, O, O, O, O, O, O, O, O,...</td>\n",
       "      <td>[hello, hannah, ,, would, you, please, investi...</td>\n",
       "    </tr>\n",
       "    <tr>\n",
       "      <th>2</th>\n",
       "      <td>We also request a review of our policies with ...</td>\n",
       "      <td>We also request a review of our policies with ...</td>\n",
       "      <td>[O, O, O, O, O, O, O, O, O, O, O, O, O, O, O, ...</td>\n",
       "      <td>[we, also, request, a, review, of, our, polici...</td>\n",
       "    </tr>\n",
       "    <tr>\n",
       "      <th>3</th>\n",
       "      <td>Dear [FIRSTNAME_1], a company-wide presentatio...</td>\n",
       "      <td>Dear Devan, a company-wide presentation is req...</td>\n",
       "      <td>[O, B-FIRSTNAME, I-FIRSTNAME, O, O, O, O, O, O...</td>\n",
       "      <td>[dear, dev, ##an, ,, a, company, -, wide, pres...</td>\n",
       "    </tr>\n",
       "    <tr>\n",
       "      <th>4</th>\n",
       "      <td>Can we also have a session on how to manage st...</td>\n",
       "      <td>Can we also have a session on how to manage st...</td>\n",
       "      <td>[O, O, O, O, O, O, O, O, O, O, O, O, O, O, O, ...</td>\n",
       "      <td>[can, we, also, have, a, session, on, how, to,...</td>\n",
       "    </tr>\n",
       "  </tbody>\n",
       "</table>\n",
       "</div>"
      ],
      "text/plain": [
       "                                         masked_text  \\\n",
       "0  [PREFIX_1] [FIRSTNAME_1] [MIDDLENAME_1] [LASTN...   \n",
       "1  Hello [FIRSTNAME_1], would you please investig...   \n",
       "2  We also request a review of our policies with ...   \n",
       "3  Dear [FIRSTNAME_1], a company-wide presentatio...   \n",
       "4  Can we also have a session on how to manage st...   \n",
       "\n",
       "                                       unmasked_text  \\\n",
       "0  Mr. Adolphus Reagan Ziemann, as a Central Prin...   \n",
       "1  Hello Hannah, would you please investigate the...   \n",
       "2  We also request a review of our policies with ...   \n",
       "3  Dear Devan, a company-wide presentation is req...   \n",
       "4  Can we also have a session on how to manage st...   \n",
       "\n",
       "                                 token_entity_labels  \\\n",
       "0  [B-PREFIX, I-PREFIX, B-FIRSTNAME, I-FIRSTNAME,...   \n",
       "1  [O, B-FIRSTNAME, O, O, O, O, O, O, O, O, O, O,...   \n",
       "2  [O, O, O, O, O, O, O, O, O, O, O, O, O, O, O, ...   \n",
       "3  [O, B-FIRSTNAME, I-FIRSTNAME, O, O, O, O, O, O...   \n",
       "4  [O, O, O, O, O, O, O, O, O, O, O, O, O, O, O, ...   \n",
       "\n",
       "                             tokenised_unmasked_text  \n",
       "0  [mr, ., adolph, ##us, reagan, z, ##ie, ##mann,...  \n",
       "1  [hello, hannah, ,, would, you, please, investi...  \n",
       "2  [we, also, request, a, review, of, our, polici...  \n",
       "3  [dear, dev, ##an, ,, a, company, -, wide, pres...  \n",
       "4  [can, we, also, have, a, session, on, how, to,...  "
      ]
     },
     "execution_count": 5,
     "metadata": {},
     "output_type": "execute_result"
    }
   ],
   "source": [
    "ds = pd.DataFrame.from_dict(dataset[:])\n",
    "ds.head()"
   ]
  },
  {
   "cell_type": "code",
   "execution_count": 6,
   "metadata": {},
   "outputs": [],
   "source": [
    "new_df = []\n",
    "document_id = 0\n",
    "for row_num in range(len(ds)):\n",
    "    document = document_id\n",
    "    full_text = ds['unmasked_text'][row_num]\n",
    "    \n",
    "    tokens = ds['tokenised_unmasked_text'][row_num]\n",
    "\n",
    "    trailing_whitespace = []\n",
    "    for token in tokens:\n",
    "        pattern = re.escape(token.replace('##','')) + r'\\s'\n",
    "        if re.search(pattern, full_text):\n",
    "            trailing_whitespace.append(True)\n",
    "        else:\n",
    "            trailing_whitespace.append(False)\n",
    "    \n",
    "\n",
    "    labels = ds['token_entity_labels'][row_num]\n",
    "    for word_pos in range(len(labels)):\n",
    "        word = labels[word_pos]\n",
    "        # if the label exists in the dictionary, replace it\n",
    "        if word in replacement_dict:\n",
    "            labels[word_pos] = replacement_dict[word]\n",
    "    \n",
    "    new_df.append([row_num, full_text, tokens, trailing_whitespace, labels])\n",
    "    \n",
    "new_df = pd.DataFrame(new_df, columns =['document', 'full_text', 'tokens', 'trailing_whitespace', 'labels'])"
   ]
  },
  {
   "cell_type": "code",
   "execution_count": 7,
   "metadata": {},
   "outputs": [
    {
     "data": {
      "text/html": [
       "<div>\n",
       "<style scoped>\n",
       "    .dataframe tbody tr th:only-of-type {\n",
       "        vertical-align: middle;\n",
       "    }\n",
       "\n",
       "    .dataframe tbody tr th {\n",
       "        vertical-align: top;\n",
       "    }\n",
       "\n",
       "    .dataframe thead th {\n",
       "        text-align: right;\n",
       "    }\n",
       "</style>\n",
       "<table border=\"1\" class=\"dataframe\">\n",
       "  <thead>\n",
       "    <tr style=\"text-align: right;\">\n",
       "      <th></th>\n",
       "      <th>document</th>\n",
       "      <th>full_text</th>\n",
       "      <th>tokens</th>\n",
       "      <th>trailing_whitespace</th>\n",
       "      <th>labels</th>\n",
       "    </tr>\n",
       "  </thead>\n",
       "  <tbody>\n",
       "    <tr>\n",
       "      <th>0</th>\n",
       "      <td>0</td>\n",
       "      <td>Mr. Adolphus Reagan Ziemann, as a Central Prin...</td>\n",
       "      <td>[mr, ., adolph, ##us, reagan, z, ##ie, ##mann,...</td>\n",
       "      <td>[False, True, False, True, False, False, False...</td>\n",
       "      <td>[O, O, B-NAME_STUDENT, I-NAME_STUDENT, I-NAME_...</td>\n",
       "    </tr>\n",
       "    <tr>\n",
       "      <th>1</th>\n",
       "      <td>1</td>\n",
       "      <td>Hello Hannah, would you please investigate the...</td>\n",
       "      <td>[hello, hannah, ,, would, you, please, investi...</td>\n",
       "      <td>[False, False, True, True, True, True, True, T...</td>\n",
       "      <td>[O, B-NAME_STUDENT, O, O, O, O, O, O, O, O, O,...</td>\n",
       "    </tr>\n",
       "    <tr>\n",
       "      <th>2</th>\n",
       "      <td>2</td>\n",
       "      <td>We also request a review of our policies with ...</td>\n",
       "      <td>[we, also, request, a, review, of, our, polici...</td>\n",
       "      <td>[False, True, True, True, True, True, True, Tr...</td>\n",
       "      <td>[O, O, O, O, O, O, O, O, O, O, O, O, O, O, O, ...</td>\n",
       "    </tr>\n",
       "    <tr>\n",
       "      <th>3</th>\n",
       "      <td>3</td>\n",
       "      <td>Dear Devan, a company-wide presentation is req...</td>\n",
       "      <td>[dear, dev, ##an, ,, a, company, -, wide, pres...</td>\n",
       "      <td>[False, False, False, True, True, False, False...</td>\n",
       "      <td>[O, B-NAME_STUDENT, I-NAME_STUDENT, O, O, O, O...</td>\n",
       "    </tr>\n",
       "    <tr>\n",
       "      <th>4</th>\n",
       "      <td>4</td>\n",
       "      <td>Can we also have a session on how to manage st...</td>\n",
       "      <td>[can, we, also, have, a, session, on, how, to,...</td>\n",
       "      <td>[False, True, True, True, True, True, True, Tr...</td>\n",
       "      <td>[O, O, O, O, O, O, O, O, O, O, O, O, O, O, O, ...</td>\n",
       "    </tr>\n",
       "  </tbody>\n",
       "</table>\n",
       "</div>"
      ],
      "text/plain": [
       "   document                                          full_text  \\\n",
       "0         0  Mr. Adolphus Reagan Ziemann, as a Central Prin...   \n",
       "1         1  Hello Hannah, would you please investigate the...   \n",
       "2         2  We also request a review of our policies with ...   \n",
       "3         3  Dear Devan, a company-wide presentation is req...   \n",
       "4         4  Can we also have a session on how to manage st...   \n",
       "\n",
       "                                              tokens  \\\n",
       "0  [mr, ., adolph, ##us, reagan, z, ##ie, ##mann,...   \n",
       "1  [hello, hannah, ,, would, you, please, investi...   \n",
       "2  [we, also, request, a, review, of, our, polici...   \n",
       "3  [dear, dev, ##an, ,, a, company, -, wide, pres...   \n",
       "4  [can, we, also, have, a, session, on, how, to,...   \n",
       "\n",
       "                                 trailing_whitespace  \\\n",
       "0  [False, True, False, True, False, False, False...   \n",
       "1  [False, False, True, True, True, True, True, T...   \n",
       "2  [False, True, True, True, True, True, True, Tr...   \n",
       "3  [False, False, False, True, True, False, False...   \n",
       "4  [False, True, True, True, True, True, True, Tr...   \n",
       "\n",
       "                                              labels  \n",
       "0  [O, O, B-NAME_STUDENT, I-NAME_STUDENT, I-NAME_...  \n",
       "1  [O, B-NAME_STUDENT, O, O, O, O, O, O, O, O, O,...  \n",
       "2  [O, O, O, O, O, O, O, O, O, O, O, O, O, O, O, ...  \n",
       "3  [O, B-NAME_STUDENT, I-NAME_STUDENT, O, O, O, O...  \n",
       "4  [O, O, O, O, O, O, O, O, O, O, O, O, O, O, O, ...  "
      ]
     },
     "execution_count": 7,
     "metadata": {},
     "output_type": "execute_result"
    }
   ],
   "source": [
    "new_df.head()"
   ]
  },
  {
   "cell_type": "code",
   "execution_count": 8,
   "metadata": {},
   "outputs": [],
   "source": [
    "new_df.to_csv('../data/pii_parsed_10k.csv')"
   ]
  }
 ],
 "metadata": {
  "kernelspec": {
   "display_name": "Python 3 (ipykernel)",
   "language": "python",
   "name": "python3"
  },
  "language_info": {
   "codemirror_mode": {
    "name": "ipython",
    "version": 3
   },
   "file_extension": ".py",
   "mimetype": "text/x-python",
   "name": "python",
   "nbconvert_exporter": "python",
   "pygments_lexer": "ipython3",
   "version": "3.11.5"
  }
 },
 "nbformat": 4,
 "nbformat_minor": 4
}
