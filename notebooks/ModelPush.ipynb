{
 "cells": [
  {
   "cell_type": "code",
   "execution_count": 42,
   "id": "5e360915-0293-4fc5-8983-190f68dec6c1",
   "metadata": {},
   "outputs": [],
   "source": [
    "from transformers import pipeline, AutoTokenizer, AutoModelForTokenClassification\n",
    "import pandas as pd\n",
    "from huggingface_hub import notebook_login"
   ]
  },
  {
   "cell_type": "markdown",
   "id": "d179dcd5-a647-445f-a5bf-de2972d3f2ba",
   "metadata": {},
   "source": [
    "## Pushing the Model and Tokenizer to HUB"
   ]
  },
  {
   "cell_type": "code",
   "execution_count": 52,
   "id": "26132698-5af6-4cd0-809b-7f024e1fe77b",
   "metadata": {},
   "outputs": [
    {
     "data": {
      "application/vnd.jupyter.widget-view+json": {
       "model_id": "41e2906681114034818b83af7b83e745",
       "version_major": 2,
       "version_minor": 0
      },
      "text/plain": [
       "VBox(children=(HTML(value='<center> <img\\nsrc=https://huggingface.co/front/assets/huggingface_logo-noborder.sv…"
      ]
     },
     "metadata": {},
     "output_type": "display_data"
    }
   ],
   "source": [
    "notebook_login()"
   ]
  },
  {
   "cell_type": "code",
   "execution_count": 10,
   "id": "4addbace-1bee-4672-913d-a6d04668237b",
   "metadata": {},
   "outputs": [],
   "source": [
    "path = '/Users/vedantmahangade/Projects/ML/CSCI-6364-PII/CSCI-6364-PII/checkpoint-4800'"
   ]
  },
  {
   "cell_type": "code",
   "execution_count": 11,
   "id": "59bdb391-3658-47c1-8cad-14965c2c520a",
   "metadata": {},
   "outputs": [],
   "source": [
    "model = AutoModelForTokenClassification.from_pretrained(path)"
   ]
  },
  {
   "cell_type": "code",
   "execution_count": 13,
   "id": "84dcb7a6-4099-492d-ace1-16d87fe75e69",
   "metadata": {},
   "outputs": [],
   "source": [
    "token_tokenizer = AutoTokenizer.from_pretrained(path)"
   ]
  },
  {
   "cell_type": "code",
   "execution_count": 48,
   "id": "c2ca96cd-eff1-4471-bb2c-97de0c912c11",
   "metadata": {},
   "outputs": [
    {
     "data": {
      "text/plain": [
       "('BigBird-PII/tokenizer_config.json',\n",
       " 'BigBird-PII/special_tokens_map.json',\n",
       " 'BigBird-PII/tokenizer.json')"
      ]
     },
     "execution_count": 48,
     "metadata": {},
     "output_type": "execute_result"
    }
   ],
   "source": [
    "model.save_pretrained('BigBird-PII')\n",
    "token_tokenizer.save_pretrained('BigBird-PII')"
   ]
  },
  {
   "cell_type": "code",
   "execution_count": 53,
   "id": "57764abf-bbeb-4711-b638-52908d950694",
   "metadata": {},
   "outputs": [
    {
     "data": {
      "application/vnd.jupyter.widget-view+json": {
       "model_id": "465789f3f70e4959b592d93006aed867",
       "version_major": 2,
       "version_minor": 0
      },
      "text/plain": [
       "model.safetensors:   0%|          | 0.00/510M [00:00<?, ?B/s]"
      ]
     },
     "metadata": {},
     "output_type": "display_data"
    },
    {
     "data": {
      "text/plain": [
       "CommitInfo(commit_url='https://huggingface.co/vedantM/BigBird-PII/commit/feed8a4a4494f45eeb08705327936cc2eb62f37d', commit_message='Upload BigBirdForTokenClassification', commit_description='', oid='feed8a4a4494f45eeb08705327936cc2eb62f37d', pr_url=None, pr_revision=None, pr_num=None)"
      ]
     },
     "execution_count": 53,
     "metadata": {},
     "output_type": "execute_result"
    }
   ],
   "source": [
    "model.push_to_hub(\"vedantM/BigBird-PII\")"
   ]
  },
  {
   "cell_type": "code",
   "execution_count": 55,
   "id": "26b3cdc2-b5aa-4e81-a50a-e5cd1380975c",
   "metadata": {},
   "outputs": [
    {
     "data": {
      "application/vnd.jupyter.widget-view+json": {
       "model_id": "c11a2166b0c64c4ca62fcb0cd43f0462",
       "version_major": 2,
       "version_minor": 0
      },
      "text/plain": [
       "README.md:   0%|          | 0.00/5.17k [00:00<?, ?B/s]"
      ]
     },
     "metadata": {},
     "output_type": "display_data"
    },
    {
     "data": {
      "text/plain": [
       "CommitInfo(commit_url='https://huggingface.co/vedantM/BigBird-PII/commit/94c4c169b001007cf12053676263f1edacb04c02', commit_message='Upload tokenizer', commit_description='', oid='94c4c169b001007cf12053676263f1edacb04c02', pr_url=None, pr_revision=None, pr_num=None)"
      ]
     },
     "execution_count": 55,
     "metadata": {},
     "output_type": "execute_result"
    }
   ],
   "source": [
    "token_tokenizer.push_to_hub(\"vedantM/BigBird-PII\")"
   ]
  },
  {
   "cell_type": "markdown",
   "id": "e21fcc00-bf1d-43af-aa2d-fa953fb8c2af",
   "metadata": {},
   "source": [
    "## Testing Pushed Model"
   ]
  },
  {
   "cell_type": "code",
   "execution_count": 56,
   "id": "5fa5e1b7-743b-4e31-bbeb-5fb188c536fe",
   "metadata": {},
   "outputs": [
    {
     "data": {
      "application/vnd.jupyter.widget-view+json": {
       "model_id": "137f219c26054ea1bbfcd0e042cc7b82",
       "version_major": 2,
       "version_minor": 0
      },
      "text/plain": [
       "tokenizer_config.json:   0%|          | 0.00/1.66k [00:00<?, ?B/s]"
      ]
     },
     "metadata": {},
     "output_type": "display_data"
    },
    {
     "data": {
      "application/vnd.jupyter.widget-view+json": {
       "model_id": "e219ad5963394cb398d8c19929ee3a37",
       "version_major": 2,
       "version_minor": 0
      },
      "text/plain": [
       "tokenizer.json:   0%|          | 0.00/2.46M [00:00<?, ?B/s]"
      ]
     },
     "metadata": {},
     "output_type": "display_data"
    },
    {
     "data": {
      "application/vnd.jupyter.widget-view+json": {
       "model_id": "c77b7672ad584367933ab8bf76b8991b",
       "version_major": 2,
       "version_minor": 0
      },
      "text/plain": [
       "special_tokens_map.json:   0%|          | 0.00/960 [00:00<?, ?B/s]"
      ]
     },
     "metadata": {},
     "output_type": "display_data"
    },
    {
     "data": {
      "application/vnd.jupyter.widget-view+json": {
       "model_id": "fd77a09d060a480e90727d2cd269b0d5",
       "version_major": 2,
       "version_minor": 0
      },
      "text/plain": [
       "config.json:   0%|          | 0.00/1.68k [00:00<?, ?B/s]"
      ]
     },
     "metadata": {},
     "output_type": "display_data"
    },
    {
     "data": {
      "application/vnd.jupyter.widget-view+json": {
       "model_id": "081ee625b18c4c73a839195427118fc1",
       "version_major": 2,
       "version_minor": 0
      },
      "text/plain": [
       "model.safetensors:   0%|          | 0.00/510M [00:00<?, ?B/s]"
      ]
     },
     "metadata": {},
     "output_type": "display_data"
    }
   ],
   "source": [
    "# Load model directly\n",
    "from transformers import AutoTokenizer, AutoModelForTokenClassification\n",
    "\n",
    "tokenizer = AutoTokenizer.from_pretrained(\"vedantM/BigBird-PII\")\n",
    "model = AutoModelForTokenClassification.from_pretrained(\"vedantM/BigBird-PII\")"
   ]
  },
  {
   "cell_type": "code",
   "execution_count": 57,
   "id": "fec5f36f-b460-4316-bb7b-100db29f8a45",
   "metadata": {},
   "outputs": [],
   "source": [
    "classifier = pipeline(\"token-classification\", model=model, aggregation_strategy=\"simple\", tokenizer=tokenizer)"
   ]
  },
  {
   "cell_type": "code",
   "execution_count": 58,
   "id": "0bc5913f-1a78-43c2-8d96-c851a912ba8b",
   "metadata": {},
   "outputs": [],
   "source": [
    "text = 'I am a student at GWU and you can reach out to me through vedant.mahangade@gwu.edu or 8806390687'"
   ]
  },
  {
   "cell_type": "code",
   "execution_count": 59,
   "id": "8ece2581-6346-4008-ba26-e10f8d9bed74",
   "metadata": {},
   "outputs": [
    {
     "data": {
      "text/plain": [
       "'I am a student at GWU and you can reach out to me through vedant.mahangade@gwu.edu or 8806390687'"
      ]
     },
     "execution_count": 59,
     "metadata": {},
     "output_type": "execute_result"
    }
   ],
   "source": [
    "text"
   ]
  },
  {
   "cell_type": "code",
   "execution_count": 60,
   "id": "6f1c692b-d18f-4285-bebf-b7e6e9d12792",
   "metadata": {
    "scrolled": true
   },
   "outputs": [
    {
     "name": "stderr",
     "output_type": "stream",
     "text": [
      "Attention type 'block_sparse' is not possible if sequence_length: 34 <= num global tokens: 2 * config.block_size + min. num sliding tokens: 3 * config.block_size + config.num_random_blocks * config.block_size + additional buffer: config.num_random_blocks * config.block_size = 704 with config.block_size = 64, config.num_random_blocks = 3. Changing attention type to 'original_full'...\n"
     ]
    },
    {
     "data": {
      "text/plain": [
       "[{'entity_group': 'EMAIL',\n",
       "  'score': 0.9575045,\n",
       "  'word': 'vedant.mahangade@gwu.edu',\n",
       "  'start': 58,\n",
       "  'end': 82},\n",
       " {'entity_group': 'PHONE_NUM',\n",
       "  'score': 0.8222973,\n",
       "  'word': '8806390687',\n",
       "  'start': 85,\n",
       "  'end': 96}]"
      ]
     },
     "execution_count": 60,
     "metadata": {},
     "output_type": "execute_result"
    }
   ],
   "source": [
    "classifier(text)"
   ]
  },
  {
   "cell_type": "code",
   "execution_count": 31,
   "id": "debe8a38-e755-40aa-a766-324fa2562aaa",
   "metadata": {},
   "outputs": [],
   "source": [
    "test_path = '/Users/vedantmahangade/Projects/ML/PII-Data-Detection/data/train.json'\n",
    "df_test = pd.read_json(test_path)"
   ]
  },
  {
   "cell_type": "code",
   "execution_count": 32,
   "id": "ab975eb2-4f72-47ed-b4f5-ce3eb2d7145e",
   "metadata": {},
   "outputs": [
    {
     "data": {
      "text/plain": [
       "2238"
      ]
     },
     "execution_count": 32,
     "metadata": {},
     "output_type": "execute_result"
    }
   ],
   "source": [
    "df_test.index.get_loc(df_test[df_test['document'] == 12154].index[0])"
   ]
  },
  {
   "cell_type": "code",
   "execution_count": 33,
   "id": "67b0ec61-fc5c-47cb-bbd8-1a569a00a186",
   "metadata": {},
   "outputs": [
    {
     "name": "stdout",
     "output_type": "stream",
     "text": [
      "ASSIGNMENT-STORY TELLING (TO AVOID STUDENT DESERTION)\n",
      "\n",
      "CHALLENGE  I work in a public university, where many of the teachers do not have formal training, this fact has  been tried to remedy with a continuous training program of short courses, which covers various  academic subjects, but it does not solve the problem entirety. One of the areas in which it impacts, in  addition to some problems in the classroom, is that corresponding to the detection and follow-up of  the cases of students who have some motivation problem, which is one of the main desertion factors.  My challenge is to support to the administrative department in the detection and monitoring of the  bachelor students who present a problem of this nature in my courses of electronics. The risk of not  attending to these cases is that, if the terminal efficiency rate decreases, not only the students who  drop out are affected, but the educational program can be closed, due to the financial problems of  our institution. This program started in 2009 but does not yet run a tutorships formal program.\n",
      "\n",
      "SELECTION\n",
      "\n",
      "For these situations, several tools showed in this course could be used, but I have no experience with  them. The tool I have used is like story telling, when I seek to motivate to the young students with  some academic problem. My familiar origin is very similar to most of them, and throughout my life I  have accumulated a series of very hard experiences, which fortunately I have solved. Empathy is  fundamental, and I think is easier, to understand and feel, when we have experienced similar  situations. My hypothesis is that story telling is very useful for motivating students facing academic  problems.\n",
      "\n",
      "I have chosen story telling, because it is a design thinking tool that put the human being and their  experience front and center. Take the listener along their journey (video of course, week 2). In  addition, in accordance to some documents reviewed for this assignment, it also can be used in  different education ambits. “Storytelling, no matter in what form and created in whatever media is a  powerful  tool  to  transmit  knowledge,  culture,  perspectives  and  points  of  view”\n",
      "\n",
      "(http://www.jackson.com/appcategory.html). Personal stories are one recognized category among educational tools,  which involve significant events in life and can be emotionally charged and personally meaningful to  both the author and the viewer (DOI: 10.1080/00405840802153916). Story Telling is one of the tools  that has impressed me most, because I have seen its impact as part of the pitch of some entrepreneurs  (https://youtu.be/1pM3sb7AMPs), as well as when it is used to motivate an audience  (https://glenn.org/postsindex.jsp), or to increment the product  value (https://youtu.be/Kb-hqNGr5lJ, video shared in the course forum). In the last video, I also  learned that each of us has a long list of stories to make the connection with people with whom it is  necessary to share information.\n",
      "\n",
      "APPLICATION\n",
      "\n",
      "With the support of the administrative staff, we identify those students, who face problems and an  individual talk with me is proposed. One of the students of the last semester who failed a course, also  suffered from negative attitudes of his teacher, making him feel that he did not have the ability to  approve and that no one would support him. His family gives him a limited economically support, but  its condition is that the student approves all his courses. The student felt into a state of susceptibility  and lack of self-confidence. He was determined to return to his village.\n",
      "\n",
      "I told him a similar story that I had lived, in which I did abandon one course, because I suffered  harassment of my teacher. I showed him, that it was not the best decision, and that nobody, apart  from my classmates, knew about this situation, and that therefore I did not have orientation. I made  him see that this situation did not stop me but delayed one of my goals. I asked him to analyze my  case and think about some alternative solutions. He observed that there are always exits. I pointed  out to him that he could face his situation, that he had capacity and intelligence, and that regardless  of our humble origins we have as much value as other people, and that, in order to change our reality,  we need preparation. He began to study very hard and managed to get the best grade in his next  exam, his last chance to pass his course.\n",
      "\n",
      "As it can be seen, the information provided was transformed into knowledge by the student and  allowed him to acquire security to face his own challenge, regaining self-confidence. Story telling was  successfully used.\n",
      "\n",
      "INSIGHT\n",
      "\n",
      "The results obtained in the last semester with the use of story telling have been satisfactory, three  students assigned to me continue their studies. Stories were different in each case. These results  increase the confidence in story telling for this kind of cases. In general, we take care about the results  of our courses, but we do not always attend, in depth, the problems that our students face. I learned  that empathy must be a daily exercise, because around us there are young people that constantly  need to be heard and oriented. Telling stories in which the overcoming and constant struggle are  fundamental, makes them see that it is worth falling, but that we must work hard to arise and get  ahead. We must support others, we can together make our work or study place flourish, being more  human.\n",
      "\n",
      "In the course and in this assignment, I learned more aspects about story telling, and I understood its  potential in several areas. I had the opportunity to learn more design thinking tools that can support  my work, creating more appropriate environments and planning actions in a more structured way.\n",
      "\n",
      "APPROACH\n",
      "\n",
      "After the course, I know that there are several details of this tool, and that to improve its application  in my challenges, I must clearly identify them. I understand that is important to solve the problem but  also to create a cause. I must be careful with the story sequence, create suspense, ask and answer  questions, create moments of reflection and generate recommendations. For the next time I will try  to consider all these elements and other ones mentioned in the videos or suggested by other  trustworthy sources.\n",
      "\n",
      "There are other design tools that could be employed to reduce the desertion and other problems in  my job place. Co-creation design tool could be used. The participation of stakeholders is very  important. Ethnography also would be great, as well as brain storming, applying them as they were  explained in the course. We need to front the competition with other institutions with similar  educative programs, using adequate design tools, for each specific situation. We also need to create  our wow zone.\n",
      "\n",
      "\n"
     ]
    }
   ],
   "source": [
    "print(df_test.iloc[2238]['full_text'])"
   ]
  },
  {
   "cell_type": "code",
   "execution_count": 34,
   "id": "eeae41ff-e76f-4add-8135-62e5b566ffc7",
   "metadata": {},
   "outputs": [
    {
     "data": {
      "text/plain": [
       "[{'entity_group': 'URL_PERSONAL',\n",
       "  'score': 0.9785735,\n",
       "  'word': '(http://www.jackson.com/appcategory.html',\n",
       "  'start': 2186,\n",
       "  'end': 2226},\n",
       " {'entity_group': 'PHONE_NUM',\n",
       "  'score': 0.28397077,\n",
       "  'word': '10',\n",
       "  'start': 2438,\n",
       "  'end': 2441},\n",
       " {'entity_group': 'ID_NUM',\n",
       "  'score': 0.64396924,\n",
       "  'word': '.1080/00405840802153916).',\n",
       "  'start': 2441,\n",
       "  'end': 2466},\n",
       " {'entity_group': 'URL_PERSONAL',\n",
       "  'score': 0.962988,\n",
       "  'word': '(https://youtu.be/1pM3sb7AMPs),',\n",
       "  'start': 2604,\n",
       "  'end': 2636},\n",
       " {'entity_group': 'URL_PERSONAL',\n",
       "  'score': 0.95966643,\n",
       "  'word': '(https://glenn.org/postsindex.jsp),',\n",
       "  'start': 2688,\n",
       "  'end': 2724},\n",
       " {'entity_group': 'URL_PERSONAL',\n",
       "  'score': 0.9735868,\n",
       "  'word': '(https://youtu.be/Kb-hqNGr5lJ,',\n",
       "  'start': 2759,\n",
       "  'end': 2790}]"
      ]
     },
     "execution_count": 34,
     "metadata": {},
     "output_type": "execute_result"
    }
   ],
   "source": [
    "classifier(df_test.iloc[2238]['full_text'])"
   ]
  },
  {
   "cell_type": "code",
   "execution_count": 39,
   "id": "cbc0b9e4-80a3-47f7-b530-efdf53e4e599",
   "metadata": {},
   "outputs": [
    {
     "name": "stdout",
     "output_type": "stream",
     "text": [
      "In a recent study on the impact of technology on education, conducted by researchers at a prominent university, several intriguing findings emerged. The study, led by Dr. Emily watson, explored the correlation between students' digital literacy levels and their academic performance.\n",
      "\n",
      "One notable participant in the study, whose name is john demonstrated exceptional proficiency in utilizing online resources for research purposes. His email, john@gwu.com, served as a crucial point of contact throughout the research process. Additionally, his username, JD_Researcher, was frequently observed across various academic platforms, indicating active engagement in scholarly discussions.\n",
      "\n",
      "Each participant was assigned a unique ID number for confidentiality purposes. his, G49845314, was used to track his progress and contributions within the study. Furthermore, his concat number, 8806390687, was occasionally utilized for survey follow-ups and clarification of research questions.\n",
      "\n",
      "As an avid contributor to online academic forums, john often shared insightful perspectives via his personal blog, accessible through the URL johnsresearchblog.com. His street address, 123 Main Street, Anytown, USA, was collected for demographic analysis but was securely stored to ensure participant privacy.\n",
      "\n",
      "Through comprehensive data analysis, the study revealed a positive correlation between students' digital literacy levels, active online engagement, and their overall academic success. This underscores the importance of integrating technology effectively into educational practices to empower students like john to thrive in the digital age.\n",
      "\n",
      "\n",
      "\n",
      "\n",
      "\n",
      "\n"
     ]
    }
   ],
   "source": [
    "txt_path = '/Users/vedantmahangade/Projects/ML/PII-Data-Detection/txt-testing.txt'\n",
    "# Open the text file in read mode\n",
    "with open(txt_path, 'r') as file:\n",
    "    # Read the entire contents of the file\n",
    "    text_data = file.read()\n",
    "\n",
    "# Print the contents of the file\n",
    "print(text_data)"
   ]
  },
  {
   "cell_type": "code",
   "execution_count": 41,
   "id": "82fc8956-2da8-4100-9796-6ad499ddef56",
   "metadata": {},
   "outputs": [
    {
     "data": {
      "text/plain": [
       "[{'entity_group': 'NAME_STUDENT',\n",
       "  'score': 0.94455767,\n",
       "  'word': 'Emily',\n",
       "  'start': 170,\n",
       "  'end': 176},\n",
       " {'entity_group': 'NAME_STUDENT',\n",
       "  'score': 0.64955866,\n",
       "  'word': 'atson,',\n",
       "  'start': 178,\n",
       "  'end': 184},\n",
       " {'entity_group': 'EMAIL',\n",
       "  'score': 0.65684366,\n",
       "  'word': '@',\n",
       "  'start': 447,\n",
       "  'end': 448},\n",
       " {'entity_group': 'EMAIL',\n",
       "  'score': 0.6316838,\n",
       "  'word': 'wu.com,',\n",
       "  'start': 449,\n",
       "  'end': 456},\n",
       " {'entity_group': 'PHONE_NUM',\n",
       "  'score': 0.2802417,\n",
       "  'word': 'G',\n",
       "  'start': 768,\n",
       "  'end': 770},\n",
       " {'entity_group': 'ID_NUM',\n",
       "  'score': 0.81959456,\n",
       "  'word': '49845314,',\n",
       "  'start': 770,\n",
       "  'end': 779},\n",
       " {'entity_group': 'PHONE_NUM',\n",
       "  'score': 0.32793957,\n",
       "  'word': '8',\n",
       "  'start': 878,\n",
       "  'end': 880},\n",
       " {'entity_group': 'ID_NUM',\n",
       "  'score': 0.802437,\n",
       "  'word': '806390687,',\n",
       "  'start': 880,\n",
       "  'end': 890},\n",
       " {'entity_group': 'STREET_ADDRESS',\n",
       "  'score': 0.9118284,\n",
       "  'word': '123 Main Street,',\n",
       "  'start': 1165,\n",
       "  'end': 1182}]"
      ]
     },
     "execution_count": 41,
     "metadata": {},
     "output_type": "execute_result"
    }
   ],
   "source": [
    "classifier(text_data)"
   ]
  }
 ],
 "metadata": {
  "kernelspec": {
   "display_name": "Python 3 (ipykernel)",
   "language": "python",
   "name": "python3"
  },
  "language_info": {
   "codemirror_mode": {
    "name": "ipython",
    "version": 3
   },
   "file_extension": ".py",
   "mimetype": "text/x-python",
   "name": "python",
   "nbconvert_exporter": "python",
   "pygments_lexer": "ipython3",
   "version": "3.11.5"
  }
 },
 "nbformat": 4,
 "nbformat_minor": 5
}
