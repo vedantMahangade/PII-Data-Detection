{
 "cells": [
  {
   "cell_type": "code",
   "execution_count": 19,
   "id": "7145f441-578c-44bd-902f-788d3b5a3d66",
   "metadata": {},
   "outputs": [],
   "source": [
    "import pandas as pd\n",
    "import numpy as np\n",
    "from ast import literal_eval\n",
    "import seaborn as sns"
   ]
  },
  {
   "cell_type": "markdown",
   "id": "058a3960-6e14-4e49-a64d-f03b6a92dfe1",
   "metadata": {},
   "source": [
    "## Merging Data"
   ]
  },
  {
   "cell_type": "markdown",
   "id": "bbc8185b-17cb-4988-9829-171474035276",
   "metadata": {},
   "source": [
    "### Original Dataset"
   ]
  },
  {
   "cell_type": "code",
   "execution_count": 2,
   "id": "94ea9728-d604-4696-9335-458ab9540089",
   "metadata": {},
   "outputs": [
    {
     "data": {
      "text/html": [
       "<div>\n",
       "<style scoped>\n",
       "    .dataframe tbody tr th:only-of-type {\n",
       "        vertical-align: middle;\n",
       "    }\n",
       "\n",
       "    .dataframe tbody tr th {\n",
       "        vertical-align: top;\n",
       "    }\n",
       "\n",
       "    .dataframe thead th {\n",
       "        text-align: right;\n",
       "    }\n",
       "</style>\n",
       "<table border=\"1\" class=\"dataframe\">\n",
       "  <thead>\n",
       "    <tr style=\"text-align: right;\">\n",
       "      <th></th>\n",
       "      <th>document</th>\n",
       "      <th>full_text</th>\n",
       "      <th>tokens</th>\n",
       "      <th>trailing_whitespace</th>\n",
       "      <th>labels</th>\n",
       "    </tr>\n",
       "  </thead>\n",
       "  <tbody>\n",
       "    <tr>\n",
       "      <th>0</th>\n",
       "      <td>7</td>\n",
       "      <td>Design Thinking for innovation reflexion-Avril...</td>\n",
       "      <td>[Design, Thinking, for, innovation, reflexion,...</td>\n",
       "      <td>[True, True, True, True, False, False, True, F...</td>\n",
       "      <td>[O, O, O, O, O, O, O, O, O, B-NAME_STUDENT, I-...</td>\n",
       "    </tr>\n",
       "    <tr>\n",
       "      <th>1</th>\n",
       "      <td>10</td>\n",
       "      <td>Diego Estrada\\n\\nDesign Thinking Assignment\\n\\...</td>\n",
       "      <td>[Diego, Estrada, \\n\\n, Design, Thinking, Assig...</td>\n",
       "      <td>[True, False, False, True, True, False, False,...</td>\n",
       "      <td>[B-NAME_STUDENT, I-NAME_STUDENT, O, O, O, O, O...</td>\n",
       "    </tr>\n",
       "    <tr>\n",
       "      <th>2</th>\n",
       "      <td>16</td>\n",
       "      <td>Reporting process\\n\\nby Gilberto Gamboa\\n\\nCha...</td>\n",
       "      <td>[Reporting, process, \\n\\n, by, Gilberto, Gambo...</td>\n",
       "      <td>[True, False, False, True, True, False, False,...</td>\n",
       "      <td>[O, O, O, O, B-NAME_STUDENT, I-NAME_STUDENT, O...</td>\n",
       "    </tr>\n",
       "    <tr>\n",
       "      <th>3</th>\n",
       "      <td>20</td>\n",
       "      <td>Design Thinking for Innovation\\n\\nSindy Samaca...</td>\n",
       "      <td>[Design, Thinking, for, Innovation, \\n\\n, Sind...</td>\n",
       "      <td>[True, True, True, False, False, True, False, ...</td>\n",
       "      <td>[O, O, O, O, O, B-NAME_STUDENT, I-NAME_STUDENT...</td>\n",
       "    </tr>\n",
       "    <tr>\n",
       "      <th>4</th>\n",
       "      <td>56</td>\n",
       "      <td>Assignment:  Visualization Reflection  Submitt...</td>\n",
       "      <td>[Assignment, :,   , Visualization,  , Reflecti...</td>\n",
       "      <td>[False, False, False, False, False, False, Fal...</td>\n",
       "      <td>[O, O, O, O, O, O, O, O, O, O, O, O, B-NAME_ST...</td>\n",
       "    </tr>\n",
       "  </tbody>\n",
       "</table>\n",
       "</div>"
      ],
      "text/plain": [
       "   document                                          full_text  \\\n",
       "0         7  Design Thinking for innovation reflexion-Avril...   \n",
       "1        10  Diego Estrada\\n\\nDesign Thinking Assignment\\n\\...   \n",
       "2        16  Reporting process\\n\\nby Gilberto Gamboa\\n\\nCha...   \n",
       "3        20  Design Thinking for Innovation\\n\\nSindy Samaca...   \n",
       "4        56  Assignment:  Visualization Reflection  Submitt...   \n",
       "\n",
       "                                              tokens  \\\n",
       "0  [Design, Thinking, for, innovation, reflexion,...   \n",
       "1  [Diego, Estrada, \\n\\n, Design, Thinking, Assig...   \n",
       "2  [Reporting, process, \\n\\n, by, Gilberto, Gambo...   \n",
       "3  [Design, Thinking, for, Innovation, \\n\\n, Sind...   \n",
       "4  [Assignment, :,   , Visualization,  , Reflecti...   \n",
       "\n",
       "                                 trailing_whitespace  \\\n",
       "0  [True, True, True, True, False, False, True, F...   \n",
       "1  [True, False, False, True, True, False, False,...   \n",
       "2  [True, False, False, True, True, False, False,...   \n",
       "3  [True, True, True, False, False, True, False, ...   \n",
       "4  [False, False, False, False, False, False, Fal...   \n",
       "\n",
       "                                              labels  \n",
       "0  [O, O, O, O, O, O, O, O, O, B-NAME_STUDENT, I-...  \n",
       "1  [B-NAME_STUDENT, I-NAME_STUDENT, O, O, O, O, O...  \n",
       "2  [O, O, O, O, B-NAME_STUDENT, I-NAME_STUDENT, O...  \n",
       "3  [O, O, O, O, O, B-NAME_STUDENT, I-NAME_STUDENT...  \n",
       "4  [O, O, O, O, O, O, O, O, O, O, O, O, B-NAME_ST...  "
      ]
     },
     "execution_count": 2,
     "metadata": {},
     "output_type": "execute_result"
    }
   ],
   "source": [
    "ds_all = pd.read_json('../data/train.json')\n",
    "ds_all.head()"
   ]
  },
  {
   "cell_type": "markdown",
   "id": "4f600c72-2383-45c2-ab70-4b90e90691b9",
   "metadata": {},
   "source": [
    "### Extended Dataset from Mistral"
   ]
  },
  {
   "cell_type": "code",
   "execution_count": 3,
   "id": "a074b934-ba77-4077-acca-a2cc44b5cdc6",
   "metadata": {},
   "outputs": [
    {
     "data": {
      "text/html": [
       "<div>\n",
       "<style scoped>\n",
       "    .dataframe tbody tr th:only-of-type {\n",
       "        vertical-align: middle;\n",
       "    }\n",
       "\n",
       "    .dataframe tbody tr th {\n",
       "        vertical-align: top;\n",
       "    }\n",
       "\n",
       "    .dataframe thead th {\n",
       "        text-align: right;\n",
       "    }\n",
       "</style>\n",
       "<table border=\"1\" class=\"dataframe\">\n",
       "  <thead>\n",
       "    <tr style=\"text-align: right;\">\n",
       "      <th></th>\n",
       "      <th>document</th>\n",
       "      <th>full_text</th>\n",
       "      <th>tokens</th>\n",
       "      <th>trailing_whitespace</th>\n",
       "      <th>labels</th>\n",
       "    </tr>\n",
       "  </thead>\n",
       "  <tbody>\n",
       "    <tr>\n",
       "      <th>0</th>\n",
       "      <td>1073d46f-2241-459b-ab01-851be8d26436</td>\n",
       "      <td>My name is Aaliyah Popova, and I am a jeweler ...</td>\n",
       "      <td>[My, name, is, Aaliyah, Popova,, and, I, am, a...</td>\n",
       "      <td>[True, True, True, True, True, True, True, Tru...</td>\n",
       "      <td>[O, O, O, B-NAME_STUDENT, I-NAME_STUDENT, O, O...</td>\n",
       "    </tr>\n",
       "    <tr>\n",
       "      <th>1</th>\n",
       "      <td>5ec717a9-17ee-48cd-9d76-30ae256c9354</td>\n",
       "      <td>My name is Konstantin Becker, and I'm a develo...</td>\n",
       "      <td>[My, name, is, Konstantin, Becker,, and, I'm, ...</td>\n",
       "      <td>[True, True, True, True, True, True, True, Tru...</td>\n",
       "      <td>[O, O, O, B-NAME_STUDENT, I-NAME_STUDENT, O, O...</td>\n",
       "    </tr>\n",
       "    <tr>\n",
       "      <th>2</th>\n",
       "      <td>353da41e-7799-4071-ab20-d959b362612e</td>\n",
       "      <td>As Mieko Mitsubishi, an account manager at a p...</td>\n",
       "      <td>[As, Mieko, Mitsubishi,, an, account, manager,...</td>\n",
       "      <td>[True, True, True, True, True, True, True, Tru...</td>\n",
       "      <td>[O, B-NAME_STUDENT, I-NAME_STUDENT, O, O, O, O...</td>\n",
       "    </tr>\n",
       "    <tr>\n",
       "      <th>3</th>\n",
       "      <td>9324ee01-7bdc-41b1-a7a5-01307f72c20d</td>\n",
       "      <td>My name is Kazuo Sun, and I'm an air traffic c...</td>\n",
       "      <td>[My, name, is, Kazuo, Sun,, and, I'm, an, air,...</td>\n",
       "      <td>[True, True, True, True, True, True, True, Tru...</td>\n",
       "      <td>[O, O, O, B-NAME_STUDENT, I-NAME_STUDENT, O, O...</td>\n",
       "    </tr>\n",
       "    <tr>\n",
       "      <th>4</th>\n",
       "      <td>971fe266-2739-4f1b-979b-7f64e07d5a4a</td>\n",
       "      <td>My name is Arina Sun, and I'm a dental hygieni...</td>\n",
       "      <td>[My, name, is, Arina, Sun,, and, I'm, a, denta...</td>\n",
       "      <td>[True, True, True, True, True, True, True, Tru...</td>\n",
       "      <td>[O, O, O, B-NAME_STUDENT, I-NAME_STUDENT, O, O...</td>\n",
       "    </tr>\n",
       "  </tbody>\n",
       "</table>\n",
       "</div>"
      ],
      "text/plain": [
       "                               document  \\\n",
       "0  1073d46f-2241-459b-ab01-851be8d26436   \n",
       "1  5ec717a9-17ee-48cd-9d76-30ae256c9354   \n",
       "2  353da41e-7799-4071-ab20-d959b362612e   \n",
       "3  9324ee01-7bdc-41b1-a7a5-01307f72c20d   \n",
       "4  971fe266-2739-4f1b-979b-7f64e07d5a4a   \n",
       "\n",
       "                                           full_text  \\\n",
       "0  My name is Aaliyah Popova, and I am a jeweler ...   \n",
       "1  My name is Konstantin Becker, and I'm a develo...   \n",
       "2  As Mieko Mitsubishi, an account manager at a p...   \n",
       "3  My name is Kazuo Sun, and I'm an air traffic c...   \n",
       "4  My name is Arina Sun, and I'm a dental hygieni...   \n",
       "\n",
       "                                              tokens  \\\n",
       "0  [My, name, is, Aaliyah, Popova,, and, I, am, a...   \n",
       "1  [My, name, is, Konstantin, Becker,, and, I'm, ...   \n",
       "2  [As, Mieko, Mitsubishi,, an, account, manager,...   \n",
       "3  [My, name, is, Kazuo, Sun,, and, I'm, an, air,...   \n",
       "4  [My, name, is, Arina, Sun,, and, I'm, a, denta...   \n",
       "\n",
       "                                 trailing_whitespace  \\\n",
       "0  [True, True, True, True, True, True, True, Tru...   \n",
       "1  [True, True, True, True, True, True, True, Tru...   \n",
       "2  [True, True, True, True, True, True, True, Tru...   \n",
       "3  [True, True, True, True, True, True, True, Tru...   \n",
       "4  [True, True, True, True, True, True, True, Tru...   \n",
       "\n",
       "                                              labels  \n",
       "0  [O, O, O, B-NAME_STUDENT, I-NAME_STUDENT, O, O...  \n",
       "1  [O, O, O, B-NAME_STUDENT, I-NAME_STUDENT, O, O...  \n",
       "2  [O, B-NAME_STUDENT, I-NAME_STUDENT, O, O, O, O...  \n",
       "3  [O, O, O, B-NAME_STUDENT, I-NAME_STUDENT, O, O...  \n",
       "4  [O, O, O, B-NAME_STUDENT, I-NAME_STUDENT, O, O...  "
      ]
     },
     "execution_count": 3,
     "metadata": {},
     "output_type": "execute_result"
    }
   ],
   "source": [
    "ds_external = pd.read_csv('../data/pii_dataset.csv', converters={\n",
    "    'tokens': literal_eval,\n",
    "    'labels': literal_eval,\n",
    "    'trailing_whitespace': literal_eval\n",
    "})\n",
    "ds_external.rename(columns={'text': 'full_text'}, inplace=True)\n",
    "ds_external = ds_external.iloc[:, :5]\n",
    "ds_external.head()"
   ]
  },
  {
   "cell_type": "code",
   "execution_count": 4,
   "id": "76007188-ba80-4aaf-a3b4-c1545ebe330d",
   "metadata": {},
   "outputs": [
    {
     "name": "stdout",
     "output_type": "stream",
     "text": [
      "Last doc id used: 22687\n"
     ]
    }
   ],
   "source": [
    "ds_all.document = ds_all.document.astype(int)\n",
    "max_doc_id = ds_all.document.max()\n",
    "print(\"Last doc id used:\", max_doc_id)\n",
    "ds_external.document = pd.Series(np.arange(max_doc_id+1, max_doc_id+1+len(ds_external)))"
   ]
  },
  {
   "cell_type": "code",
   "execution_count": 5,
   "id": "66b69001-604f-4e94-b6e6-b00b7de175fa",
   "metadata": {},
   "outputs": [
    {
     "data": {
      "text/html": [
       "<div>\n",
       "<style scoped>\n",
       "    .dataframe tbody tr th:only-of-type {\n",
       "        vertical-align: middle;\n",
       "    }\n",
       "\n",
       "    .dataframe tbody tr th {\n",
       "        vertical-align: top;\n",
       "    }\n",
       "\n",
       "    .dataframe thead th {\n",
       "        text-align: right;\n",
       "    }\n",
       "</style>\n",
       "<table border=\"1\" class=\"dataframe\">\n",
       "  <thead>\n",
       "    <tr style=\"text-align: right;\">\n",
       "      <th></th>\n",
       "      <th>document</th>\n",
       "      <th>full_text</th>\n",
       "      <th>tokens</th>\n",
       "      <th>trailing_whitespace</th>\n",
       "      <th>labels</th>\n",
       "    </tr>\n",
       "  </thead>\n",
       "  <tbody>\n",
       "    <tr>\n",
       "      <th>0</th>\n",
       "      <td>7</td>\n",
       "      <td>Design Thinking for innovation reflexion-Avril...</td>\n",
       "      <td>[Design, Thinking, for, innovation, reflexion,...</td>\n",
       "      <td>[True, True, True, True, False, False, True, F...</td>\n",
       "      <td>[O, O, O, O, O, O, O, O, O, B-NAME_STUDENT, I-...</td>\n",
       "    </tr>\n",
       "    <tr>\n",
       "      <th>1</th>\n",
       "      <td>10</td>\n",
       "      <td>Diego Estrada\\n\\nDesign Thinking Assignment\\n\\...</td>\n",
       "      <td>[Diego, Estrada, \\n\\n, Design, Thinking, Assig...</td>\n",
       "      <td>[True, False, False, True, True, False, False,...</td>\n",
       "      <td>[B-NAME_STUDENT, I-NAME_STUDENT, O, O, O, O, O...</td>\n",
       "    </tr>\n",
       "    <tr>\n",
       "      <th>2</th>\n",
       "      <td>16</td>\n",
       "      <td>Reporting process\\n\\nby Gilberto Gamboa\\n\\nCha...</td>\n",
       "      <td>[Reporting, process, \\n\\n, by, Gilberto, Gambo...</td>\n",
       "      <td>[True, False, False, True, True, False, False,...</td>\n",
       "      <td>[O, O, O, O, B-NAME_STUDENT, I-NAME_STUDENT, O...</td>\n",
       "    </tr>\n",
       "    <tr>\n",
       "      <th>3</th>\n",
       "      <td>20</td>\n",
       "      <td>Design Thinking for Innovation\\n\\nSindy Samaca...</td>\n",
       "      <td>[Design, Thinking, for, Innovation, \\n\\n, Sind...</td>\n",
       "      <td>[True, True, True, False, False, True, False, ...</td>\n",
       "      <td>[O, O, O, O, O, B-NAME_STUDENT, I-NAME_STUDENT...</td>\n",
       "    </tr>\n",
       "    <tr>\n",
       "      <th>4</th>\n",
       "      <td>56</td>\n",
       "      <td>Assignment:  Visualization Reflection  Submitt...</td>\n",
       "      <td>[Assignment, :,   , Visualization,  , Reflecti...</td>\n",
       "      <td>[False, False, False, False, False, False, Fal...</td>\n",
       "      <td>[O, O, O, O, O, O, O, O, O, O, O, O, B-NAME_ST...</td>\n",
       "    </tr>\n",
       "    <tr>\n",
       "      <th>...</th>\n",
       "      <td>...</td>\n",
       "      <td>...</td>\n",
       "      <td>...</td>\n",
       "      <td>...</td>\n",
       "      <td>...</td>\n",
       "    </tr>\n",
       "    <tr>\n",
       "      <th>4429</th>\n",
       "      <td>27117</td>\n",
       "      <td>Hello, I'm Nicholas Moore, a man with a rich t...</td>\n",
       "      <td>[Hello,, I'm, Nicholas, Moore,, a, man, with, ...</td>\n",
       "      <td>[True, True, True, True, True, True, True, Tru...</td>\n",
       "      <td>[O, O, B-NAME_STUDENT, I-NAME_STUDENT, O, O, O...</td>\n",
       "    </tr>\n",
       "    <tr>\n",
       "      <th>4430</th>\n",
       "      <td>27118</td>\n",
       "      <td>Hello, my name is Alexey Novikov and I'm a psy...</td>\n",
       "      <td>[Hello,, my, name, is, Alexey, Novikov, and, I...</td>\n",
       "      <td>[True, True, True, True, True, True, True, Tru...</td>\n",
       "      <td>[O, O, O, O, B-NAME_STUDENT, I-NAME_STUDENT, O...</td>\n",
       "    </tr>\n",
       "    <tr>\n",
       "      <th>4431</th>\n",
       "      <td>27119</td>\n",
       "      <td>My name is Ludmila Inoue, and I'm a person wit...</td>\n",
       "      <td>[My, name, is, Ludmila, Inoue,, and, I'm, a, p...</td>\n",
       "      <td>[True, True, True, True, True, True, True, Tru...</td>\n",
       "      <td>[O, O, O, B-NAME_STUDENT, I-NAME_STUDENT, O, O...</td>\n",
       "    </tr>\n",
       "    <tr>\n",
       "      <th>4432</th>\n",
       "      <td>27120</td>\n",
       "      <td>Dr. Tu Garcia, a renowned dermatologist, embar...</td>\n",
       "      <td>[Dr., Tu, Garcia,, a, renowned, dermatologist,...</td>\n",
       "      <td>[True, True, True, True, True, True, True, Tru...</td>\n",
       "      <td>[O, B-NAME_STUDENT, I-NAME_STUDENT, O, O, O, O...</td>\n",
       "    </tr>\n",
       "    <tr>\n",
       "      <th>4433</th>\n",
       "      <td>27121</td>\n",
       "      <td>Hello, I'm Badi Nakamura, and I work as a prog...</td>\n",
       "      <td>[Hello,, I'm, Badi, Nakamura,, and, I, work, a...</td>\n",
       "      <td>[True, True, True, True, True, True, True, Tru...</td>\n",
       "      <td>[O, O, B-NAME_STUDENT, I-NAME_STUDENT, O, O, O...</td>\n",
       "    </tr>\n",
       "  </tbody>\n",
       "</table>\n",
       "<p>11241 rows × 5 columns</p>\n",
       "</div>"
      ],
      "text/plain": [
       "      document                                          full_text  \\\n",
       "0            7  Design Thinking for innovation reflexion-Avril...   \n",
       "1           10  Diego Estrada\\n\\nDesign Thinking Assignment\\n\\...   \n",
       "2           16  Reporting process\\n\\nby Gilberto Gamboa\\n\\nCha...   \n",
       "3           20  Design Thinking for Innovation\\n\\nSindy Samaca...   \n",
       "4           56  Assignment:  Visualization Reflection  Submitt...   \n",
       "...        ...                                                ...   \n",
       "4429     27117  Hello, I'm Nicholas Moore, a man with a rich t...   \n",
       "4430     27118  Hello, my name is Alexey Novikov and I'm a psy...   \n",
       "4431     27119  My name is Ludmila Inoue, and I'm a person wit...   \n",
       "4432     27120  Dr. Tu Garcia, a renowned dermatologist, embar...   \n",
       "4433     27121  Hello, I'm Badi Nakamura, and I work as a prog...   \n",
       "\n",
       "                                                 tokens  \\\n",
       "0     [Design, Thinking, for, innovation, reflexion,...   \n",
       "1     [Diego, Estrada, \\n\\n, Design, Thinking, Assig...   \n",
       "2     [Reporting, process, \\n\\n, by, Gilberto, Gambo...   \n",
       "3     [Design, Thinking, for, Innovation, \\n\\n, Sind...   \n",
       "4     [Assignment, :,   , Visualization,  , Reflecti...   \n",
       "...                                                 ...   \n",
       "4429  [Hello,, I'm, Nicholas, Moore,, a, man, with, ...   \n",
       "4430  [Hello,, my, name, is, Alexey, Novikov, and, I...   \n",
       "4431  [My, name, is, Ludmila, Inoue,, and, I'm, a, p...   \n",
       "4432  [Dr., Tu, Garcia,, a, renowned, dermatologist,...   \n",
       "4433  [Hello,, I'm, Badi, Nakamura,, and, I, work, a...   \n",
       "\n",
       "                                    trailing_whitespace  \\\n",
       "0     [True, True, True, True, False, False, True, F...   \n",
       "1     [True, False, False, True, True, False, False,...   \n",
       "2     [True, False, False, True, True, False, False,...   \n",
       "3     [True, True, True, False, False, True, False, ...   \n",
       "4     [False, False, False, False, False, False, Fal...   \n",
       "...                                                 ...   \n",
       "4429  [True, True, True, True, True, True, True, Tru...   \n",
       "4430  [True, True, True, True, True, True, True, Tru...   \n",
       "4431  [True, True, True, True, True, True, True, Tru...   \n",
       "4432  [True, True, True, True, True, True, True, Tru...   \n",
       "4433  [True, True, True, True, True, True, True, Tru...   \n",
       "\n",
       "                                                 labels  \n",
       "0     [O, O, O, O, O, O, O, O, O, B-NAME_STUDENT, I-...  \n",
       "1     [B-NAME_STUDENT, I-NAME_STUDENT, O, O, O, O, O...  \n",
       "2     [O, O, O, O, B-NAME_STUDENT, I-NAME_STUDENT, O...  \n",
       "3     [O, O, O, O, O, B-NAME_STUDENT, I-NAME_STUDENT...  \n",
       "4     [O, O, O, O, O, O, O, O, O, O, O, O, B-NAME_ST...  \n",
       "...                                                 ...  \n",
       "4429  [O, O, B-NAME_STUDENT, I-NAME_STUDENT, O, O, O...  \n",
       "4430  [O, O, O, O, B-NAME_STUDENT, I-NAME_STUDENT, O...  \n",
       "4431  [O, O, O, B-NAME_STUDENT, I-NAME_STUDENT, O, O...  \n",
       "4432  [O, B-NAME_STUDENT, I-NAME_STUDENT, O, O, O, O...  \n",
       "4433  [O, O, B-NAME_STUDENT, I-NAME_STUDENT, O, O, O...  \n",
       "\n",
       "[11241 rows x 5 columns]"
      ]
     },
     "execution_count": 5,
     "metadata": {},
     "output_type": "execute_result"
    }
   ],
   "source": [
    "ds_all = pd.concat([ds_all, ds_external], axis=0)\n",
    "ds_all"
   ]
  },
  {
   "cell_type": "markdown",
   "id": "9126f0ed-951b-4eed-b7dd-7218d055f615",
   "metadata": {},
   "source": [
    "### Saving combined Dataset"
   ]
  },
  {
   "cell_type": "code",
   "execution_count": 6,
   "id": "ab09aa99-80e6-4e72-a051-b62fbc262dba",
   "metadata": {},
   "outputs": [],
   "source": [
    "ds_all.to_csv('../data/combined_data.csv',index=False)"
   ]
  },
  {
   "cell_type": "markdown",
   "id": "0f9583e4-e735-4ebe-bbe1-89e070a723c1",
   "metadata": {},
   "source": [
    "## EDA on Combined Dataset"
   ]
  },
  {
   "cell_type": "code",
   "execution_count": 42,
   "id": "49fa48e5-27d4-4028-be56-287156d1fbd9",
   "metadata": {},
   "outputs": [
    {
     "data": {
      "text/plain": [
       "<bound method NDFrame.head of        document                                          full_text  \\\n",
       "0             7  Design Thinking for innovation reflexion-Avril...   \n",
       "1            10  Diego Estrada\\n\\nDesign Thinking Assignment\\n\\...   \n",
       "2            16  Reporting process\\n\\nby Gilberto Gamboa\\n\\nCha...   \n",
       "3            20  Design Thinking for Innovation\\n\\nSindy Samaca...   \n",
       "4            56  Assignment:  Visualization Reflection  Submitt...   \n",
       "...         ...                                                ...   \n",
       "11236     27117  Hello, I'm Nicholas Moore, a man with a rich t...   \n",
       "11237     27118  Hello, my name is Alexey Novikov and I'm a psy...   \n",
       "11238     27119  My name is Ludmila Inoue, and I'm a person wit...   \n",
       "11239     27120  Dr. Tu Garcia, a renowned dermatologist, embar...   \n",
       "11240     27121  Hello, I'm Badi Nakamura, and I work as a prog...   \n",
       "\n",
       "                                                  tokens  \\\n",
       "0      [Design, Thinking, for, innovation, reflexion,...   \n",
       "1      [Diego, Estrada, \\n\\n, Design, Thinking, Assig...   \n",
       "2      [Reporting, process, \\n\\n, by, Gilberto, Gambo...   \n",
       "3      [Design, Thinking, for, Innovation, \\n\\n, Sind...   \n",
       "4      [Assignment, :,   , Visualization,  , Reflecti...   \n",
       "...                                                  ...   \n",
       "11236  [Hello,, I'm, Nicholas, Moore,, a, man, with, ...   \n",
       "11237  [Hello,, my, name, is, Alexey, Novikov, and, I...   \n",
       "11238  [My, name, is, Ludmila, Inoue,, and, I'm, a, p...   \n",
       "11239  [Dr., Tu, Garcia,, a, renowned, dermatologist,...   \n",
       "11240  [Hello,, I'm, Badi, Nakamura,, and, I, work, a...   \n",
       "\n",
       "                                     trailing_whitespace  \\\n",
       "0      [True, True, True, True, False, False, True, F...   \n",
       "1      [True, False, False, True, True, False, False,...   \n",
       "2      [True, False, False, True, True, False, False,...   \n",
       "3      [True, True, True, False, False, True, False, ...   \n",
       "4      [False, False, False, False, False, False, Fal...   \n",
       "...                                                  ...   \n",
       "11236  [True, True, True, True, True, True, True, Tru...   \n",
       "11237  [True, True, True, True, True, True, True, Tru...   \n",
       "11238  [True, True, True, True, True, True, True, Tru...   \n",
       "11239  [True, True, True, True, True, True, True, Tru...   \n",
       "11240  [True, True, True, True, True, True, True, Tru...   \n",
       "\n",
       "                                                  labels  \n",
       "0      [O, O, O, O, O, O, O, O, O, B-NAME_STUDENT, I-...  \n",
       "1      [B-NAME_STUDENT, I-NAME_STUDENT, O, O, O, O, O...  \n",
       "2      [O, O, O, O, B-NAME_STUDENT, I-NAME_STUDENT, O...  \n",
       "3      [O, O, O, O, O, B-NAME_STUDENT, I-NAME_STUDENT...  \n",
       "4      [O, O, O, O, O, O, O, O, O, O, O, O, B-NAME_ST...  \n",
       "...                                                  ...  \n",
       "11236  [O, O, B-NAME_STUDENT, I-NAME_STUDENT, O, O, O...  \n",
       "11237  [O, O, O, O, B-NAME_STUDENT, I-NAME_STUDENT, O...  \n",
       "11238  [O, O, O, B-NAME_STUDENT, I-NAME_STUDENT, O, O...  \n",
       "11239  [O, B-NAME_STUDENT, I-NAME_STUDENT, O, O, O, O...  \n",
       "11240  [O, O, B-NAME_STUDENT, I-NAME_STUDENT, O, O, O...  \n",
       "\n",
       "[11241 rows x 5 columns]>"
      ]
     },
     "execution_count": 42,
     "metadata": {},
     "output_type": "execute_result"
    }
   ],
   "source": [
    "data = pd.read_csv('../data/combined_data.csv'\n",
    "                   , converters={'tokens': literal_eval\n",
    "                                 , 'labels': literal_eval\n",
    "                                 ,'trailing_whitespace': literal_eval\n",
    "                                }\n",
    "                  )\n",
    "data.head"
   ]
  },
  {
   "cell_type": "markdown",
   "id": "1e30640e-8216-4acf-b18a-9fa99f040904",
   "metadata": {},
   "source": [
    "### getting class labels"
   ]
  },
  {
   "cell_type": "code",
   "execution_count": 46,
   "id": "b167b40b-7412-483e-9c64-48c9eecd868f",
   "metadata": {},
   "outputs": [
    {
     "name": "stdout",
     "output_type": "stream",
     "text": [
      "O                   6323308\n",
      "B-NAME_STUDENT        12469\n",
      "I-STREET_ADDRESS       8597\n",
      "I-NAME_STUDENT         6763\n",
      "B-EMAIL                3833\n",
      "B-STREET_ADDRESS       3545\n",
      "I-PHONE_NUM            3404\n",
      "B-PHONE_NUM            2425\n",
      "B-URL_PERSONAL          730\n",
      "B-USERNAME              724\n",
      "B-ID_NUM                 78\n",
      "I-URL_PERSONAL            1\n",
      "I-ID_NUM                  1\n",
      "Name: count, dtype: int64\n"
     ]
    }
   ],
   "source": [
    "labels1 = data.labels.tolist()\n",
    "cnt_labels1 = []\n",
    "for x in labels1:\n",
    "    cnt_labels1.extend(x)\n",
    "\n",
    "print(pd.Series(cnt_labels1).value_counts())"
   ]
  },
  {
   "cell_type": "code",
   "execution_count": 47,
   "id": "ae38f4f9-cbd6-425e-b708-3bdea344ca9e",
   "metadata": {},
   "outputs": [],
   "source": [
    "count1 = pd.Series(cnt_labels1).value_counts()[1:]"
   ]
  },
  {
   "cell_type": "code",
   "execution_count": 48,
   "id": "a993564e-9394-4bc6-a0a7-73e3bdee68f0",
   "metadata": {},
   "outputs": [
    {
     "data": {
      "text/plain": [
       "B-NAME_STUDENT      12469\n",
       "I-STREET_ADDRESS     8597\n",
       "I-NAME_STUDENT       6763\n",
       "B-EMAIL              3833\n",
       "B-STREET_ADDRESS     3545\n",
       "I-PHONE_NUM          3404\n",
       "B-PHONE_NUM          2425\n",
       "B-URL_PERSONAL        730\n",
       "B-USERNAME            724\n",
       "B-ID_NUM               78\n",
       "I-URL_PERSONAL          1\n",
       "I-ID_NUM                1\n",
       "Name: count, dtype: int64"
      ]
     },
     "execution_count": 48,
     "metadata": {},
     "output_type": "execute_result"
    }
   ],
   "source": [
    "count1"
   ]
  },
  {
   "cell_type": "markdown",
   "id": "f49e5670-50a5-4ff9-8ded-7eddb8b27cc3",
   "metadata": {},
   "source": [
    "### Mapping BIO to Root form"
   ]
  },
  {
   "cell_type": "code",
   "execution_count": 13,
   "id": "7f743aee-879e-403b-bb97-548bc432d2d2",
   "metadata": {},
   "outputs": [],
   "source": [
    "target_labels = {'B-NAME_STUDENT':'NAME_STUDENT'\n",
    "                 , 'I-NAME_STUDENT':'NAME_STUDENT'\n",
    "                 , 'B-URL_PERSONAL':'URL_PERSONAL'\n",
    "                 , 'I-URL_PERSONAL':'URL_PERSONAL'\n",
    "                 , 'B-EMAIL':'EMAIL'\n",
    "                 , 'I-EMAIL':'EMAIL'\n",
    "                 , 'B-ID_NUM':'ID_NUM'\n",
    "                 , 'I-ID_NUM':'ID_NUM'\n",
    "                 , 'B-USERNAME':'USERNAME'\n",
    "                 , 'I-USERNAME':'USERNAME'\n",
    "                 , 'B-PHONE_NUM':'PHONE_NUM'\n",
    "                 , 'I-PHONE_NUM':'PHONE_NUM'\n",
    "                 , 'B-STREET_ADDRESS':'STREET_ADDRESS'\n",
    "                 , 'I-STREET_ADDRESS':'STREET_ADDRESS'\n",
    "                }"
   ]
  },
  {
   "cell_type": "code",
   "execution_count": 14,
   "id": "d3e2d9e6-32d2-4056-84e4-361981b00534",
   "metadata": {},
   "outputs": [],
   "source": [
    "for i in range(len(labels)):\n",
    "    for j in range(len(labels[i])):\n",
    "        label = labels[i][j]\n",
    "        if label == 'O':\n",
    "            continue\n",
    "        elif label in target_labels:\n",
    "            labels[i][j] = target_labels[label]"
   ]
  },
  {
   "cell_type": "code",
   "execution_count": 15,
   "id": "8b7f91b3-9593-4cc7-ad79-833c79dfe5aa",
   "metadata": {},
   "outputs": [
    {
     "data": {
      "text/plain": [
       "NAME_STUDENT      19232\n",
       "STREET_ADDRESS    12142\n",
       "PHONE_NUM          5829\n",
       "EMAIL              3833\n",
       "URL_PERSONAL        731\n",
       "USERNAME            724\n",
       "ID_NUM               79\n",
       "Name: count, dtype: int64"
      ]
     },
     "execution_count": 15,
     "metadata": {},
     "output_type": "execute_result"
    }
   ],
   "source": [
    "cnt_labels = []\n",
    "for x in labels:\n",
    "    cnt_labels.extend(x)\n",
    "\n",
    "count = pd.Series(cnt_labels).value_counts()[1:]\n",
    "\n",
    "count"
   ]
  },
  {
   "cell_type": "markdown",
   "id": "c889ceee-d856-4b3d-9e90-62589562900d",
   "metadata": {},
   "source": [
    "### Frequency Distribution of Categorical Data"
   ]
  },
  {
   "cell_type": "code",
   "execution_count": 50,
   "id": "fd322082-1c17-4d43-ada9-0c2b67f33925",
   "metadata": {},
   "outputs": [],
   "source": [
    "import matplotlib.pyplot as plt\n"
   ]
  },
  {
   "cell_type": "code",
   "execution_count": 51,
   "id": "14befe09-b01e-4125-9dd0-f6c9f4c530ca",
   "metadata": {},
   "outputs": [
    {
     "data": {
      "image/png": "[encoded data removed]",
      "text/plain": [
       "<Figure size 500x300 with 1 Axes>"
      ]
     },
     "metadata": {},
     "output_type": "display_data"
    }
   ],
   "source": [
    "\n",
    "plt.figure(figsize=(5, 3))\n",
    "# Plot the frequency distribution\n",
    "count.plot(kind='bar')\n",
    "plt.xlabel('Category')\n",
    "plt.ylabel('Frequency')\n",
    "plt.title('Frequency Distribution of Categorical Data')\n",
    "plt.xticks(rotation=45)  # Rotate the x-axis labels by 45 degrees\n",
    "plt.tight_layout() \n",
    "plt.show()"
   ]
  },
  {
   "cell_type": "markdown",
   "id": "681fe60b-60cc-469e-8e43-2c0d19374f02",
   "metadata": {},
   "source": [
    "### Token Length Distribution"
   ]
  },
  {
   "cell_type": "code",
   "execution_count": 38,
   "id": "834d0147-9bb9-4906-b38f-9e503eb2463e",
   "metadata": {
    "scrolled": true
   },
   "outputs": [
    {
     "data": {
      "image/png": "[encoded data removed]",
      "text/plain": [
       "<Figure size 500x300 with 1 Axes>"
      ]
     },
     "metadata": {},
     "output_type": "display_data"
    }
   ],
   "source": [
    "data['token_count'] = data['tokens'].apply(lambda x: len(x))\n",
    "plt.figure(figsize=(5, 3))\n",
    "data['token_count'].plot.hist(bins=50)\n",
    "plt.title(\"Token Length for Document\")\n",
    "plt.grid(False)\n",
    "plt.show()"
   ]
  },
  {
   "cell_type": "code",
   "execution_count": 36,
   "id": "7e001203-4c59-429c-bf0b-f16ee33b3595",
   "metadata": {},
   "outputs": [
    {
     "data": {
      "image/png": "[encoded data removed]",
      "text/plain": [
       "<Figure size 500x300 with 1 Axes>"
      ]
     },
     "metadata": {},
     "output_type": "display_data"
    }
   ],
   "source": [
    "plt.figure(figsize=(5, 3))\n",
    "data['token_count'].plot.hist(bins=50)\n",
    "plt.title(\"Token Length for Document\")\n",
    "plt.grid(False)\n",
    "plt.show()"
   ]
  },
  {
   "cell_type": "markdown",
   "id": "8ddeb961-df24-42dd-8c4f-82d302d2fc5d",
   "metadata": {},
   "source": [
    "## Removing rows with 0 non 'O' tokens"
   ]
  },
  {
   "cell_type": "code",
   "execution_count": 74,
   "id": "bdda5135-fc17-4fa9-861a-dfc5dc117eab",
   "metadata": {},
   "outputs": [
    {
     "data": {
      "text/plain": [
       "5370"
      ]
     },
     "execution_count": 74,
     "metadata": {},
     "output_type": "execute_result"
    }
   ],
   "source": [
    "data1['is_labels'] = data1['labels'].apply(lambda labels: any(label != 'O' for label in labels))\n",
    "ds_pos = data1[data1['is_labels']]\n",
    "len(ds_pos)"
   ]
  },
  {
   "cell_type": "code",
   "execution_count": 75,
   "id": "2062ecf8-ae84-40f1-a934-efa56e28e9a1",
   "metadata": {},
   "outputs": [
    {
     "data": {
      "image/png": "[encoded data removed]",
      "text/plain": [
       "<Figure size 1500x800 with 1 Axes>"
      ]
     },
     "metadata": {},
     "output_type": "display_data"
    }
   ],
   "source": [
    "import matplotlib.pyplot as plt\n",
    "\n",
    "plt.figure(figsize=(15, 8))\n",
    "# Plot the frequency distribution\n",
    "count.plot(kind='bar')\n",
    "plt.xlabel('Category')\n",
    "plt.ylabel('Frequency')\n",
    "plt.title('Frequency Distribution after cleaning')\n",
    "plt.xticks(rotation=45)  # Rotate the x-axis labels by 45 degrees\n",
    "plt.tight_layout() \n",
    "plt.show()"
   ]
  },
  {
   "cell_type": "code",
   "execution_count": 76,
   "id": "9c33d806-5b09-4704-ac5a-80161bb6da80",
   "metadata": {},
   "outputs": [
    {
     "name": "stderr",
     "output_type": "stream",
     "text": [
      "/var/folders/n8/b6_h9cbd1r3fjkr_2zjs39qw0000gn/T/ipykernel_62618/3974566369.py:1: SettingWithCopyWarning: \n",
      "A value is trying to be set on a copy of a slice from a DataFrame.\n",
      "Try using .loc[row_indexer,col_indexer] = value instead\n",
      "\n",
      "See the caveats in the documentation: https://pandas.pydata.org/pandas-docs/stable/user_guide/indexing.html#returning-a-view-versus-a-copy\n",
      "  ds_pos['token_count'] = ds_pos['tokens'].apply(lambda x: len(x))\n"
     ]
    },
    {
     "data": {
      "image/png": "[encoded data removed]",
      "text/plain": [
       "<Figure size 1500x800 with 1 Axes>"
      ]
     },
     "metadata": {},
     "output_type": "display_data"
    }
   ],
   "source": [
    "ds_pos['token_count'] = ds_pos['tokens'].apply(lambda x: len(x))\n",
    "plt.figure(figsize=(15, 8))\n",
    "ds_pos['token_count'].plot.hist(bins=50)\n",
    "plt.title(\"Token Length for Documents after cleaning \")\n",
    "plt.grid(False)\n",
    "plt.show()"
   ]
  },
  {
   "cell_type": "code",
   "execution_count": 39,
   "id": "55836f8a-a68f-420a-be91-b34ed95e2951",
   "metadata": {},
   "outputs": [],
   "source": [
    "label_list = ['O',\n",
    "                 'B-NAME_STUDENT',\n",
    "                 'I-NAME_STUDENT',\n",
    "                 'B-EMAIL',\n",
    "                 'I-EMAIL',\n",
    "                 'B-USERNAME',\n",
    "                 'I-USERNAME',\n",
    "                 'B-ID_NUM',\n",
    "                 'I-ID_NUM' ,\n",
    "                 'B-PHONE_NUM',\n",
    "                 'I-PHONE_NUM',\n",
    "                 'B-URL_PERSONAL',\n",
    "                 'I-URL_PERSONAL',\n",
    "                 'B-STREET_ADDRESS',\n",
    "                 'I-STREET_ADDRESS']\n",
    "\n",
    "encoder = {'O':0,\n",
    "           'B-NAME_STUDENT': 1,\n",
    "           'I-NAME_STUDENT': 2,\n",
    "           'B-EMAIL': 3,\n",
    "           'I-EMAIL': 4,\n",
    "           'B-USERNAME': 5,\n",
    "           'I-USERNAME': 6,\n",
    "           'B-ID_NUM': 7,\n",
    "           'I-ID_NUM' : 8,\n",
    "           'B-PHONE_NUM': 9,\n",
    "           'I-PHONE_NUM': 10,\n",
    "           'B-URL_PERSONAL': 11,\n",
    "           'I-URL_PERSONAL': 12,\n",
    "           'B-STREET_ADDRESS': 13,\n",
    "           'I-STREET_ADDRESS': 14}\n",
    "decoder = {0: 'O',\n",
    "           1: 'B-NAME_STUDENT',\n",
    "           2: 'I-NAME_STUDENT',\n",
    "           3: 'B-EMAIL',\n",
    "           4: 'I-EMAIL',\n",
    "           5: 'B-USERNAME',\n",
    "           6: 'I-USERNAME',\n",
    "           7: 'B-ID_NUM',\n",
    "           8: 'I-ID_NUM',\n",
    "           9: 'B-PHONE_NUM',\n",
    "           10: 'I-PHONE_NUM',\n",
    "           11: 'B-URL_PERSONAL',\n",
    "           12: 'I-URL_PERSONAL',\n",
    "           13: 'B-STREET_ADDRESS',\n",
    "           14: 'I-STREET_ADDRESS'}"
   ]
  },
  {
   "cell_type": "code",
   "execution_count": 36,
   "id": "d61c09a3",
   "metadata": {},
   "outputs": [],
   "source": [
    "from transformers import AutoTokenizer\n",
    "import pandas as pd\n",
    "from datasets import Dataset, DatasetDict"
   ]
  },
  {
   "cell_type": "code",
   "execution_count": 28,
   "id": "1063a58c-412f-4da0-a77e-2c0f69fc8676",
   "metadata": {},
   "outputs": [],
   "source": [
    "df = pd.read_json('../data/train.json')\n",
    "text = df.iloc[1]['full_text']\n",
    "tokens = df.iloc[1]['tokens']\n",
    "example = tokens[:10]\n",
    "# example = 'I am a student at GWU and you can reach out to me through djones@gmail.com or (320) 202-688 5843'"
   ]
  },
  {
   "cell_type": "code",
   "execution_count": 40,
   "id": "704f5f73-4e5f-427f-a8a5-c6411b18ceaa",
   "metadata": {},
   "outputs": [],
   "source": [
    "def create_mapped_labels(labels):\n",
    "    mapped_labels = pd.DataFrame({\n",
    "                        'mapped_labels': labels\n",
    "                    })['mapped_labels'].map(encoder).tolist()\n",
    "    return mapped_labels"
   ]
  },
  {
   "cell_type": "code",
   "execution_count": 41,
   "id": "0e36e4bf-ba3d-4b65-a30c-c5bad2e83d00",
   "metadata": {},
   "outputs": [],
   "source": [
    "df['mapped_labels'] = df['labels'].apply(create_mapped_labels)"
   ]
  },
  {
   "cell_type": "code",
   "execution_count": 42,
   "id": "2ac7f5e6-4535-45a9-8151-10463649d4cd",
   "metadata": {},
   "outputs": [],
   "source": [
    "train_ds = Dataset.from_dict({\n",
    "        'document': [document for document in df['document']],\n",
    "        'full_text': [full_text for full_text in df['full_text']],\n",
    "        'tokens': [tokens for tokens in df['tokens']],\n",
    "        'trailing_whitespace': [trailing_whitespace for trailing_whitespace in df['trailing_whitespace']],\n",
    "        'labels': [labels for labels in df['labels']],\n",
    "        'mapped_labels': [mapped_labels for mapped_labels in df['mapped_labels']]\n",
    "    })"
   ]
  },
  {
   "cell_type": "code",
   "execution_count": 43,
   "id": "42ce63b3-ef60-4abd-835a-85f80b2b5fe3",
   "metadata": {},
   "outputs": [],
   "source": [
    "def align_labels_with_tokens(labels, word_ids):\n",
    "    new_labels = []\n",
    "    current_word = None\n",
    "    for word_id in word_ids:\n",
    "        if word_id != current_word:\n",
    "            # Start of a new word!\n",
    "            current_word = word_id\n",
    "            label = -100 if word_id is None else labels[word_id]\n",
    "            new_labels.append(label)\n",
    "        elif word_id is None:\n",
    "            # Special token\n",
    "            new_labels.append(-100)\n",
    "        else:\n",
    "            # Same word as previous token\n",
    "            label = labels[word_id]\n",
    "            # If the label is B-XXX we change it to I-XXX\n",
    "            if label % 2 == 1:\n",
    "                label += 1\n",
    "            new_labels.append(label)\n",
    "\n",
    "    return new_labels"
   ]
  },
  {
   "cell_type": "code",
   "execution_count": 44,
   "id": "9ac0b7d0-2892-4e66-b754-a43d3efdb8c2",
   "metadata": {},
   "outputs": [],
   "source": [
    "def tokenize_and_align_labels(row):\n",
    "    # print(type(row[\"tokens\"]), type(row[\"tokens\"][0]))\n",
    "    tokenized_inputs = tokenizer(\n",
    "        # row[\"tokens\"][0], truncation=False #, is_split_into_words=True\n",
    "        row[\"tokens\"], padding='max_length', truncation=False, is_split_into_words=True, max_length=4096\n",
    "        # row[\"tokens\"], truncation=True, is_split_into_words=True\n",
    "    )\n",
    "    all_labels = row[\"mapped_labels\"]\n",
    "    new_labels = []\n",
    "    for i, labels in enumerate(all_labels):\n",
    "        word_ids = tokenized_inputs.word_ids(i)\n",
    "        new_labels.append(align_labels_with_tokens(labels, word_ids))\n",
    "\n",
    "    tokenized_inputs[\"labels\"] = new_labels\n",
    "    return tokenized_inputs"
   ]
  },
  {
   "cell_type": "code",
   "execution_count": 57,
   "id": "4d23994e-c0f2-4ea6-8601-1c944301ae70",
   "metadata": {},
   "outputs": [
    {
     "name": "stdout",
     "output_type": "stream",
     "text": [
      "['Diego', 'Estrada', '\\n\\n', 'Design', 'Thinking', 'Assignment', '\\n\\n', 'Visualization', 'Tool', '\\n\\n']\n"
     ]
    }
   ],
   "source": [
    "print(example)"
   ]
  },
  {
   "cell_type": "code",
   "execution_count": 30,
   "id": "006ce82d",
   "metadata": {},
   "outputs": [],
   "source": [
    "tokenizer = AutoTokenizer.from_pretrained(\"distilbert/distilbert-base-uncased\")"
   ]
  },
  {
   "cell_type": "code",
   "execution_count": 31,
   "id": "3300ebdb-bf1a-443f-9a97-f1992b37c881",
   "metadata": {},
   "outputs": [
    {
     "name": "stdout",
     "output_type": "stream",
     "text": [
      "['[CLS]', '▁Diego', '▁E', 'str', 'ada', '▁Design', '▁Thinking', '▁Assignment', '▁Visual', 'ization', '▁Tool', '[SEP]']\n"
     ]
    }
   ],
   "source": [
    "tokenized_input = tokenizer(example, is_split_into_words = True)\n",
    "tokens = tokenizer.convert_ids_to_tokens(tokenized_input[\"input_ids\"])\n",
    "print(tokens)"
   ]
  },
  {
   "cell_type": "code",
   "execution_count": 58,
   "id": "7adb4de1-c83b-4588-b316-abf85a2bb947",
   "metadata": {},
   "outputs": [
    {
     "data": {
      "application/vnd.jupyter.widget-view+json": {
       "model_id": "476b41cff9834e3b9656b56ee2d0113e",
       "version_major": 2,
       "version_minor": 0
      },
      "text/plain": [
       "Map:   0%|          | 0/6807 [00:00<?, ? examples/s]"
      ]
     },
     "metadata": {},
     "output_type": "display_data"
    }
   ],
   "source": [
    "tokenized_train = train_ds.map(\n",
    "    tokenize_and_align_labels,\n",
    "    batched=True\n",
    ")"
   ]
  },
  {
   "cell_type": "code",
   "execution_count": 59,
   "id": "abd5914f-08dc-4cfc-82bb-6debfd81aed6",
   "metadata": {},
   "outputs": [
    {
     "name": "stdout",
     "output_type": "stream",
     "text": [
      "tokens: ['Diego', 'Estrada', '\\n\\n', 'Design', 'Thinking', 'Assignment', '\\n\\n', 'Visualization', 'Tool', '\\n\\n']\n",
      "input_ids: [65, 9601, 513, 2637, 4864, 8596, 30808, 50245, 15713, 1735]\n",
      "attention_mask: [1, 1, 1, 1, 1, 1, 1, 1, 1, 1]\n"
     ]
    }
   ],
   "source": [
    "print('tokens:',tokenized_train[1]['tokens'][:10])\n",
    "print('input_ids:',tokenized_train[1]['input_ids'][:10])\n",
    "print('attention_mask:',tokenized_train[1]['attention_mask'][:10])"
   ]
  },
  {
   "cell_type": "code",
   "execution_count": 103,
   "id": "43cf918e-37e6-4a63-bddf-f31d2fd04a21",
   "metadata": {},
   "outputs": [],
   "source": [
    "import seaborn as sns\n",
    "import matplotlib.pyplot as plt"
   ]
  },
  {
   "cell_type": "code",
   "execution_count": 150,
   "id": "180bab76-472f-4aef-ae4c-61a22914169f",
   "metadata": {},
   "outputs": [],
   "source": [
    "states = pd.read_json('../score.json')"
   ]
  },
  {
   "cell_type": "code",
   "execution_count": 151,
   "id": "13cbcc64-cdb0-4559-a066-cb54f5155c15",
   "metadata": {},
   "outputs": [
    {
     "data": {
      "text/plain": [
       "Index(['epoch', 'eval_f1', 'eval_loss', 'eval_precision', 'eval_recall',\n",
       "       'eval_runtime', 'eval_samples_per_second', 'eval_steps_per_second',\n",
       "       'step', 'grad_norm', 'learning_rate', 'loss'],\n",
       "      dtype='object')"
      ]
     },
     "execution_count": 151,
     "metadata": {},
     "output_type": "execute_result"
    }
   ],
   "source": [
    "states.columns"
   ]
  },
  {
   "cell_type": "code",
   "execution_count": 181,
   "id": "45257791-6274-4064-928e-611ce3840ec1",
   "metadata": {},
   "outputs": [],
   "source": [
    "eval_scores = states[['step', 'eval_f1', 'eval_loss', 'eval_precision', 'eval_recall']]\n",
    "param = states[['step', 'grad_norm', 'learning_rate', 'loss']]"
   ]
  },
  {
   "cell_type": "code",
   "execution_count": 183,
   "id": "508c04ef-d6e4-41ea-9e5a-1ec9c7857fbe",
   "metadata": {},
   "outputs": [],
   "source": [
    "eval_scores = eval_scores.dropna()\n",
    "eval_scores = eval_scores.reset_index()\n",
    "eval_scores = eval_scores.drop(['index'], axis=1)\n",
    "# eval_scores.columns = ['Step', 'F1-Score', 'Loss', 'Precision', 'Recall']\n",
    "# eval_scores = pd.melt(eval_scores, id_vars=['Step'], value_vars=['F1-Score', 'Loss', 'Precision','Recall'],ignore_index=True)\n",
    "\n",
    "param = param.dropna()\n",
    "param = param.reset_index()\n",
    "param = param.drop(['index'], axis=1)\n",
    "# param.columns = ['Step', 'Gradient Normalization', 'Learning Rate', 'Loss']\n",
    "# param = pd.melt(param, id_vars=['Step'], value_vars=['Gradient Normalization', 'Learning Rate', 'Loss'],ignore_index=True)"
   ]
  },
  {
   "cell_type": "code",
   "execution_count": 184,
   "id": "90ff373e-cbec-4230-bd0b-41df7288e86a",
   "metadata": {},
   "outputs": [
    {
     "data": {
      "text/html": [
       "<div>\n",
       "<style scoped>\n",
       "    .dataframe tbody tr th:only-of-type {\n",
       "        vertical-align: middle;\n",
       "    }\n",
       "\n",
       "    .dataframe tbody tr th {\n",
       "        vertical-align: top;\n",
       "    }\n",
       "\n",
       "    .dataframe thead th {\n",
       "        text-align: right;\n",
       "    }\n",
       "</style>\n",
       "<table border=\"1\" class=\"dataframe\">\n",
       "  <thead>\n",
       "    <tr style=\"text-align: right;\">\n",
       "      <th></th>\n",
       "      <th>step</th>\n",
       "      <th>eval_f1</th>\n",
       "      <th>eval_loss</th>\n",
       "      <th>eval_precision</th>\n",
       "      <th>eval_recall</th>\n",
       "    </tr>\n",
       "  </thead>\n",
       "  <tbody>\n",
       "    <tr>\n",
       "      <th>0</th>\n",
       "      <td>300</td>\n",
       "      <td>0.838021</td>\n",
       "      <td>0.026652</td>\n",
       "      <td>0.755178</td>\n",
       "      <td>0.841715</td>\n",
       "    </tr>\n",
       "    <tr>\n",
       "      <th>1</th>\n",
       "      <td>600</td>\n",
       "      <td>0.876871</td>\n",
       "      <td>0.022784</td>\n",
       "      <td>0.840300</td>\n",
       "      <td>0.878401</td>\n",
       "    </tr>\n",
       "    <tr>\n",
       "      <th>2</th>\n",
       "      <td>900</td>\n",
       "      <td>0.876631</td>\n",
       "      <td>0.019102</td>\n",
       "      <td>0.825397</td>\n",
       "      <td>0.878813</td>\n",
       "    </tr>\n",
       "    <tr>\n",
       "      <th>3</th>\n",
       "      <td>1200</td>\n",
       "      <td>0.890938</td>\n",
       "      <td>0.017615</td>\n",
       "      <td>0.837003</td>\n",
       "      <td>0.893240</td>\n",
       "    </tr>\n",
       "    <tr>\n",
       "      <th>4</th>\n",
       "      <td>1500</td>\n",
       "      <td>0.888467</td>\n",
       "      <td>0.017231</td>\n",
       "      <td>0.843750</td>\n",
       "      <td>0.890354</td>\n",
       "    </tr>\n",
       "    <tr>\n",
       "      <th>5</th>\n",
       "      <td>1800</td>\n",
       "      <td>0.903095</td>\n",
       "      <td>0.013103</td>\n",
       "      <td>0.872366</td>\n",
       "      <td>0.904369</td>\n",
       "    </tr>\n",
       "    <tr>\n",
       "      <th>6</th>\n",
       "      <td>2100</td>\n",
       "      <td>0.923758</td>\n",
       "      <td>0.013077</td>\n",
       "      <td>0.857361</td>\n",
       "      <td>0.926628</td>\n",
       "    </tr>\n",
       "    <tr>\n",
       "      <th>7</th>\n",
       "      <td>2400</td>\n",
       "      <td>0.918122</td>\n",
       "      <td>0.012517</td>\n",
       "      <td>0.882167</td>\n",
       "      <td>0.919621</td>\n",
       "    </tr>\n",
       "    <tr>\n",
       "      <th>8</th>\n",
       "      <td>2700</td>\n",
       "      <td>0.914753</td>\n",
       "      <td>0.011347</td>\n",
       "      <td>0.906492</td>\n",
       "      <td>0.915087</td>\n",
       "    </tr>\n",
       "    <tr>\n",
       "      <th>9</th>\n",
       "      <td>3000</td>\n",
       "      <td>0.917729</td>\n",
       "      <td>0.011875</td>\n",
       "      <td>0.872848</td>\n",
       "      <td>0.919621</td>\n",
       "    </tr>\n",
       "    <tr>\n",
       "      <th>10</th>\n",
       "      <td>3300</td>\n",
       "      <td>0.931997</td>\n",
       "      <td>0.009293</td>\n",
       "      <td>0.902352</td>\n",
       "      <td>0.933223</td>\n",
       "    </tr>\n",
       "    <tr>\n",
       "      <th>11</th>\n",
       "      <td>3600</td>\n",
       "      <td>0.933086</td>\n",
       "      <td>0.008780</td>\n",
       "      <td>0.909675</td>\n",
       "      <td>0.934048</td>\n",
       "    </tr>\n",
       "    <tr>\n",
       "      <th>12</th>\n",
       "      <td>3900</td>\n",
       "      <td>0.930262</td>\n",
       "      <td>0.008591</td>\n",
       "      <td>0.898608</td>\n",
       "      <td>0.931575</td>\n",
       "    </tr>\n",
       "    <tr>\n",
       "      <th>13</th>\n",
       "      <td>4200</td>\n",
       "      <td>0.934117</td>\n",
       "      <td>0.007927</td>\n",
       "      <td>0.915624</td>\n",
       "      <td>0.934872</td>\n",
       "    </tr>\n",
       "    <tr>\n",
       "      <th>14</th>\n",
       "      <td>4500</td>\n",
       "      <td>0.940657</td>\n",
       "      <td>0.007576</td>\n",
       "      <td>0.911085</td>\n",
       "      <td>0.941880</td>\n",
       "    </tr>\n",
       "    <tr>\n",
       "      <th>15</th>\n",
       "      <td>4800</td>\n",
       "      <td>0.938896</td>\n",
       "      <td>0.007397</td>\n",
       "      <td>0.916399</td>\n",
       "      <td>0.939819</td>\n",
       "    </tr>\n",
       "  </tbody>\n",
       "</table>\n",
       "</div>"
      ],
      "text/plain": [
       "    step   eval_f1  eval_loss  eval_precision  eval_recall\n",
       "0    300  0.838021   0.026652        0.755178     0.841715\n",
       "1    600  0.876871   0.022784        0.840300     0.878401\n",
       "2    900  0.876631   0.019102        0.825397     0.878813\n",
       "3   1200  0.890938   0.017615        0.837003     0.893240\n",
       "4   1500  0.888467   0.017231        0.843750     0.890354\n",
       "5   1800  0.903095   0.013103        0.872366     0.904369\n",
       "6   2100  0.923758   0.013077        0.857361     0.926628\n",
       "7   2400  0.918122   0.012517        0.882167     0.919621\n",
       "8   2700  0.914753   0.011347        0.906492     0.915087\n",
       "9   3000  0.917729   0.011875        0.872848     0.919621\n",
       "10  3300  0.931997   0.009293        0.902352     0.933223\n",
       "11  3600  0.933086   0.008780        0.909675     0.934048\n",
       "12  3900  0.930262   0.008591        0.898608     0.931575\n",
       "13  4200  0.934117   0.007927        0.915624     0.934872\n",
       "14  4500  0.940657   0.007576        0.911085     0.941880\n",
       "15  4800  0.938896   0.007397        0.916399     0.939819"
      ]
     },
     "execution_count": 184,
     "metadata": {},
     "output_type": "execute_result"
    }
   ],
   "source": [
    "# eval_scores[eval_scores['variable']=='Loss']\n",
    "eval_scores"
   ]
  },
  {
   "cell_type": "code",
   "execution_count": 175,
   "id": "d9a9f9ab-784d-4c60-8488-cb1c8b80fe9a",
   "metadata": {},
   "outputs": [
    {
     "data": {
      "image/png": "[encoded data removed]",
      "text/plain": [
       "<Figure size 1200x700 with 6 Axes>"
      ]
     },
     "metadata": {},
     "output_type": "display_data"
    }
   ],
   "source": [
    "columns = ['eval_loss', 'eval_f1', 'eval_precision', 'eval_recall']\n",
    "\n",
    "fig, positions = plt.subplots(2, 3, figsize=(12,7))\n",
    "\n",
    "sns.lineplot(x='step', y='eval_loss', data=eval_scores, ax = positions[0, 0])\n",
    "positions[0, 0].set_title('Evaluation Loss vs Steps')\n",
    "\n",
    "sns.lineplot(data=eval_scores, x='step', y='eval_f1', ax = positions[0, 1])\n",
    "positions[0, 1].set_title('Evaluation F1 vs Steps')\n",
    "\n",
    "sns.lineplot(data=eval_scores, x='step', y='eval_precision', label='precision',ax = positions[0, 2])\n",
    "sns.lineplot(data=eval_scores, x='step', y='eval_recall', label='recall', ax = positions[0, 2])\n",
    "positions[0, 2].set_title('Scores vs Steps')\n",
    "\n",
    "fig.tight_layout(pad = 2.0)\n",
    "\n"
   ]
  }
 ],
 "metadata": {
  "kernelspec": {
   "display_name": "Python 3 (ipykernel)",
   "language": "python",
   "name": "python3"
  },
  "language_info": {
   "codemirror_mode": {
    "name": "ipython",
    "version": 3
   },
   "file_extension": ".py",
   "mimetype": "text/x-python",
   "name": "python",
   "nbconvert_exporter": "python",
   "pygments_lexer": "ipython3",
   "version": "3.11.7"
  }
 },
 "nbformat": 4,
 "nbformat_minor": 5
}
