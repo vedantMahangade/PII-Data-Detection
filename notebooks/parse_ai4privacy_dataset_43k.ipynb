{
 "cells": [
  {
   "cell_type": "code",
   "execution_count": 1,
   "metadata": {},
   "outputs": [],
   "source": [
    "import numpy as np\n",
    "import pandas as pd\n",
    "from datasets import load_dataset, Dataset\n",
    "import re\n",
    "import sys\n",
    "sys.path.insert(0, '../src')\n",
    "from dict import replacement_dict_43k"
   ]
  },
  {
   "cell_type": "code",
   "execution_count": 2,
   "metadata": {},
   "outputs": [],
   "source": [
    "dataset = load_dataset(\"json\", data_files=\"../data/english_pii_43k.jsonl\", split=\"train\")"
   ]
  },
  {
   "cell_type": "code",
   "execution_count": 3,
   "metadata": {},
   "outputs": [
    {
     "data": {
      "text/plain": [
       "Dataset({\n",
       "    features: ['masked_text', 'unmasked_text', 'privacy_mask', 'span_labels', 'bio_labels', 'tokenised_text'],\n",
       "    num_rows: 43501\n",
       "})"
      ]
     },
     "execution_count": 3,
     "metadata": {},
     "output_type": "execute_result"
    }
   ],
   "source": [
    "dataset"
   ]
  },
  {
   "cell_type": "code",
   "execution_count": 4,
   "metadata": {},
   "outputs": [
    {
     "name": "stdout",
     "output_type": "stream",
     "text": [
      "{'masked_text': \"A student's assessment was found on device bearing IMEI: [PHONEIMEI_1]. The document falls under the various topics discussed in our [JOBAREA_1] curriculum. Can you please collect it?\", 'unmasked_text': \"A student's assessment was found on device bearing IMEI: 06-184755-866851-3. The document falls under the various topics discussed in our Optimization curriculum. Can you please collect it?\", 'privacy_mask': \"{'[PHONEIMEI_1]': '06-184755-866851-3', '[JOBAREA_1]': 'Optimization'}\", 'span_labels': \"[[0, 57, 'O'], [57, 75, 'PHONEIMEI_1'], [75, 138, 'O'], [138, 150, 'JOBAREA_1'], [150, 189, 'O']]\", 'bio_labels': ['O', 'O', 'O', 'O', 'O', 'O', 'O', 'O', 'O', 'O', 'O', 'O', 'O', 'B-PHONEIMEI', 'I-PHONEIMEI', 'I-PHONEIMEI', 'I-PHONEIMEI', 'I-PHONEIMEI', 'I-PHONEIMEI', 'I-PHONEIMEI', 'I-PHONEIMEI', 'I-PHONEIMEI', 'I-PHONEIMEI', 'I-PHONEIMEI', 'O', 'O', 'O', 'O', 'O', 'O', 'O', 'O', 'O', 'O', 'O', 'B-JOBAREA', 'O', 'O', 'O', 'O', 'O', 'O', 'O', 'O'], 'tokenised_text': ['a', 'student', \"'\", 's', 'assessment', 'was', 'found', 'on', 'device', 'bearing', 'im', '##ei', ':', '06', '-', '1847', '##55', '-', '86', '##6', '##85', '##1', '-', '3', '.', 'the', 'document', 'falls', 'under', 'the', 'various', 'topics', 'discussed', 'in', 'our', 'optimization', 'curriculum', '.', 'can', 'you', 'please', 'collect', 'it', '?']}\n"
     ]
    }
   ],
   "source": [
    "print(dataset[0])"
   ]
  },
  {
   "cell_type": "code",
   "execution_count": 5,
   "metadata": {},
   "outputs": [
    {
     "data": {
      "text/html": [
       "<div>\n",
       "<style scoped>\n",
       "    .dataframe tbody tr th:only-of-type {\n",
       "        vertical-align: middle;\n",
       "    }\n",
       "\n",
       "    .dataframe tbody tr th {\n",
       "        vertical-align: top;\n",
       "    }\n",
       "\n",
       "    .dataframe thead th {\n",
       "        text-align: right;\n",
       "    }\n",
       "</style>\n",
       "<table border=\"1\" class=\"dataframe\">\n",
       "  <thead>\n",
       "    <tr style=\"text-align: right;\">\n",
       "      <th></th>\n",
       "      <th>masked_text</th>\n",
       "      <th>unmasked_text</th>\n",
       "      <th>privacy_mask</th>\n",
       "      <th>span_labels</th>\n",
       "      <th>bio_labels</th>\n",
       "      <th>tokenised_text</th>\n",
       "    </tr>\n",
       "  </thead>\n",
       "  <tbody>\n",
       "    <tr>\n",
       "      <th>0</th>\n",
       "      <td>A student's assessment was found on device bea...</td>\n",
       "      <td>A student's assessment was found on device bea...</td>\n",
       "      <td>{'[PHONEIMEI_1]': '06-184755-866851-3', '[JOBA...</td>\n",
       "      <td>[[0, 57, 'O'], [57, 75, 'PHONEIMEI_1'], [75, 1...</td>\n",
       "      <td>[O, O, O, O, O, O, O, O, O, O, O, O, O, B-PHON...</td>\n",
       "      <td>[a, student, ', s, assessment, was, found, on,...</td>\n",
       "    </tr>\n",
       "    <tr>\n",
       "      <th>1</th>\n",
       "      <td>Dear [FIRSTNAME_1], as per our records, your l...</td>\n",
       "      <td>Dear Omer, as per our records, your license 78...</td>\n",
       "      <td>{'[FIRSTNAME_1]': 'Omer', '[VEHICLEVIN_1]': '7...</td>\n",
       "      <td>[[0, 5, 'O'], [5, 9, 'FIRSTNAME_1'], [9, 44, '...</td>\n",
       "      <td>[O, B-FIRSTNAME, I-FIRSTNAME, O, O, O, O, O, O...</td>\n",
       "      <td>[dear, om, ##er, ,, as, per, our, records, ,, ...</td>\n",
       "    </tr>\n",
       "    <tr>\n",
       "      <th>2</th>\n",
       "      <td>[FIRSTNAME_1] could you please share your reco...</td>\n",
       "      <td>Kattie could you please share your recomndatio...</td>\n",
       "      <td>{'[FIRSTNAME_1]': 'Kattie', '[AGE_1]': '72', '...</td>\n",
       "      <td>[[0, 6, 'FIRSTNAME_1'], [6, 75, 'O'], [75, 77,...</td>\n",
       "      <td>[B-FIRSTNAME, I-FIRSTNAME, O, O, O, O, O, O, O...</td>\n",
       "      <td>[kat, ##tie, could, you, please, share, your, ...</td>\n",
       "    </tr>\n",
       "    <tr>\n",
       "      <th>3</th>\n",
       "      <td>Emergency supplies in [BUILDINGNUMBER_1] need ...</td>\n",
       "      <td>Emergency supplies in 16356 need a refill. Use...</td>\n",
       "      <td>{'[BUILDINGNUMBER_1]': '16356', '[MASKEDNUMBER...</td>\n",
       "      <td>[[0, 22, 'O'], [22, 27, 'BUILDINGNUMBER_1'], [...</td>\n",
       "      <td>[O, O, O, B-BUILDINGNUMBER, I-BUILDINGNUMBER, ...</td>\n",
       "      <td>[emergency, supplies, in, 1635, ##6, need, a, ...</td>\n",
       "    </tr>\n",
       "    <tr>\n",
       "      <th>4</th>\n",
       "      <td>The [AGE_1] old child at [BUILDINGNUMBER_1], h...</td>\n",
       "      <td>The 88 old child at 5862, has showcased an unu...</td>\n",
       "      <td>{'[AGE_1]': '88', '[BUILDINGNUMBER_1]': '5862'...</td>\n",
       "      <td>[[0, 4, 'O'], [4, 6, 'AGE_1'], [6, 20, 'O'], [...</td>\n",
       "      <td>[O, B-AGE, O, O, O, B-BUILDINGNUMBER, I-BUILDI...</td>\n",
       "      <td>[the, 88, old, child, at, 58, ##6, ##2, ,, has...</td>\n",
       "    </tr>\n",
       "  </tbody>\n",
       "</table>\n",
       "</div>"
      ],
      "text/plain": [
       "                                         masked_text  \\\n",
       "0  A student's assessment was found on device bea...   \n",
       "1  Dear [FIRSTNAME_1], as per our records, your l...   \n",
       "2  [FIRSTNAME_1] could you please share your reco...   \n",
       "3  Emergency supplies in [BUILDINGNUMBER_1] need ...   \n",
       "4  The [AGE_1] old child at [BUILDINGNUMBER_1], h...   \n",
       "\n",
       "                                       unmasked_text  \\\n",
       "0  A student's assessment was found on device bea...   \n",
       "1  Dear Omer, as per our records, your license 78...   \n",
       "2  Kattie could you please share your recomndatio...   \n",
       "3  Emergency supplies in 16356 need a refill. Use...   \n",
       "4  The 88 old child at 5862, has showcased an unu...   \n",
       "\n",
       "                                        privacy_mask  \\\n",
       "0  {'[PHONEIMEI_1]': '06-184755-866851-3', '[JOBA...   \n",
       "1  {'[FIRSTNAME_1]': 'Omer', '[VEHICLEVIN_1]': '7...   \n",
       "2  {'[FIRSTNAME_1]': 'Kattie', '[AGE_1]': '72', '...   \n",
       "3  {'[BUILDINGNUMBER_1]': '16356', '[MASKEDNUMBER...   \n",
       "4  {'[AGE_1]': '88', '[BUILDINGNUMBER_1]': '5862'...   \n",
       "\n",
       "                                         span_labels  \\\n",
       "0  [[0, 57, 'O'], [57, 75, 'PHONEIMEI_1'], [75, 1...   \n",
       "1  [[0, 5, 'O'], [5, 9, 'FIRSTNAME_1'], [9, 44, '...   \n",
       "2  [[0, 6, 'FIRSTNAME_1'], [6, 75, 'O'], [75, 77,...   \n",
       "3  [[0, 22, 'O'], [22, 27, 'BUILDINGNUMBER_1'], [...   \n",
       "4  [[0, 4, 'O'], [4, 6, 'AGE_1'], [6, 20, 'O'], [...   \n",
       "\n",
       "                                          bio_labels  \\\n",
       "0  [O, O, O, O, O, O, O, O, O, O, O, O, O, B-PHON...   \n",
       "1  [O, B-FIRSTNAME, I-FIRSTNAME, O, O, O, O, O, O...   \n",
       "2  [B-FIRSTNAME, I-FIRSTNAME, O, O, O, O, O, O, O...   \n",
       "3  [O, O, O, B-BUILDINGNUMBER, I-BUILDINGNUMBER, ...   \n",
       "4  [O, B-AGE, O, O, O, B-BUILDINGNUMBER, I-BUILDI...   \n",
       "\n",
       "                                      tokenised_text  \n",
       "0  [a, student, ', s, assessment, was, found, on,...  \n",
       "1  [dear, om, ##er, ,, as, per, our, records, ,, ...  \n",
       "2  [kat, ##tie, could, you, please, share, your, ...  \n",
       "3  [emergency, supplies, in, 1635, ##6, need, a, ...  \n",
       "4  [the, 88, old, child, at, 58, ##6, ##2, ,, has...  "
      ]
     },
     "execution_count": 5,
     "metadata": {},
     "output_type": "execute_result"
    }
   ],
   "source": [
    "ds = pd.DataFrame.from_dict(dataset[:])\n",
    "ds.head()"
   ]
  },
  {
   "cell_type": "code",
   "execution_count": 6,
   "metadata": {},
   "outputs": [],
   "source": [
    "# new_df = []\n",
    "new_df = []\n",
    "document_id = 0\n",
    "for row_num in range(len(ds)):\n",
    "    document = document_id\n",
    "    full_text = ds['unmasked_text'][row_num]\n",
    "    \n",
    "    tokens = ds['tokenised_text'][row_num]\n",
    "\n",
    "    trailing_whitespace = []\n",
    "    for token in tokens:\n",
    "        pattern = re.escape(token.replace('##','')) + r'\\s'\n",
    "        if re.search(pattern, full_text, re.IGNORECASE):\n",
    "            trailing_whitespace.append(True)\n",
    "        else:\n",
    "            trailing_whitespace.append(False)\n",
    "    \n",
    "\n",
    "    labels = ds['bio_labels'][row_num]\n",
    "    for word_pos in range(len(labels)):\n",
    "        word = labels[word_pos]\n",
    "        # if the label exists in the dictionary, replace it\n",
    "        if word in replacement_dict_43k:\n",
    "            labels[word_pos] = replacement_dict_43k[word]\n",
    "        else:\n",
    "            labels[word_pos] = 'O'\n",
    "    \n",
    "    # new_df.append([row_num, full_text, tokens, trailing_whitespace, labels])\n",
    "    new_df.append({'document':row_num, 'full_text':full_text, 'tokens': tokens, 'trailing_whitespace': trailing_whitespace, 'labels': labels})\n",
    "    \n",
    "# new_df = pd.DataFrame(new_df, columns =['document', 'full_text', 'tokens', 'trailing_whitespace', 'labels'])\n",
    "# new_df = pd.DataFrame(new_df)"
   ]
  },
  {
   "cell_type": "code",
   "execution_count": 7,
   "metadata": {},
   "outputs": [],
   "source": [
    "import json\n",
    "with open(\"../data/pii_parsed_43k.json\", \"w\") as final:\n",
    "    json.dump(new_df, final)"
   ]
  },
  {
   "cell_type": "code",
   "execution_count": 8,
   "metadata": {},
   "outputs": [],
   "source": [
    "# ds = Dataset.from_pandas(new_df, split = 'train+validation')\n",
    "# ds\n",
    "# ds.save_to_disk(\"../data/\")\n",
    "# new_df.to_json('../data/pii_parsed_43k.json')"
   ]
  }
 ],
 "metadata": {
  "kernelspec": {
   "display_name": "Python 3 (ipykernel)",
   "language": "python",
   "name": "python3"
  },
  "language_info": {
   "codemirror_mode": {
    "name": "ipython",
    "version": 3
   },
   "file_extension": ".py",
   "mimetype": "text/x-python",
   "name": "python",
   "nbconvert_exporter": "python",
   "pygments_lexer": "ipython3",
   "version": "3.11.5"
  }
 },
 "nbformat": 4,
 "nbformat_minor": 4
}
