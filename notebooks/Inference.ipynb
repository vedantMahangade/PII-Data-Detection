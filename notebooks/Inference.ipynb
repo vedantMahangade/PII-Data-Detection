{
 "cells": [
  {
   "cell_type": "code",
   "execution_count": 3,
   "id": "5e360915-0293-4fc5-8983-190f68dec6c1",
   "metadata": {},
   "outputs": [],
   "source": [
    "from transformers import pipeline, AutoTokenizer, AutoModelForTokenClassification\n",
    "import pandas as pd"
   ]
  },
  {
   "cell_type": "markdown",
   "id": "552f967d-e01a-4bdb-9c02-5db10a94ef85",
   "metadata": {},
   "source": [
    "# Loading Fine Tuned Model from Hugging Face"
   ]
  },
  {
   "cell_type": "code",
   "execution_count": 10,
   "id": "5fa5e1b7-743b-4e31-bbeb-5fb188c536fe",
   "metadata": {},
   "outputs": [],
   "source": [
    "# Load model directly\n",
    "from transformers import AutoTokenizer, AutoModelForTokenClassification\n",
    "\n",
    "tokenizer = AutoTokenizer.from_pretrained(\"vedantM/BigBird-PII\")\n",
    "model = AutoModelForTokenClassification.from_pretrained(\"vedantM/BigBird-PII\")"
   ]
  },
  {
   "cell_type": "code",
   "execution_count": 11,
   "id": "fec5f36f-b460-4316-bb7b-100db29f8a45",
   "metadata": {},
   "outputs": [],
   "source": [
    "# Creating a classifier instance using the pipeline function\n",
    "BigBird_Classifier = pipeline(task = \"token-classification\"\n",
    "                      , model=model\n",
    "                      , aggregation_strategy=\"max\"\n",
    "                      , tokenizer=tokenizer)"
   ]
  },
  {
   "cell_type": "markdown",
   "id": "b21c1673-d948-4fbb-9e23-6b1bff398063",
   "metadata": {},
   "source": [
    "### RoBERTa and DistilBERT not pushed to Hugging face"
   ]
  },
  {
   "cell_type": "code",
   "execution_count": 1,
   "id": "69ed5194-e8ea-4452-ab05-efb5cf21be2b",
   "metadata": {},
   "outputs": [],
   "source": [
    "# tokenizer2 = AutoTokenizer.from_pretrained(\"/Users/vedantmahangade/Projects/ML/PII-Data-Detection/notebooks/Roberta/roberta-pii-tokenizer_v1\")\n",
    "# model2 = AutoModelForTokenClassification.from_pretrained(\"/Users/vedantmahangade/Projects/ML/PII-Data-Detection/notebooks/Roberta/roberta-pii_v1\")"
   ]
  },
  {
   "cell_type": "code",
   "execution_count": 146,
   "id": "c41006dc-ecc2-4ec3-8733-7acd81776361",
   "metadata": {},
   "outputs": [],
   "source": [
    "# Roberta_Classifier = pipeline(task = \"token-classification\"\n",
    "#                       , model=model2\n",
    "#                       , aggregation_strategy=\"average\"\n",
    "#                       , tokenizer=tokenizer2)"
   ]
  },
  {
   "cell_type": "code",
   "execution_count": 147,
   "id": "78cb10de-ebbb-4acf-9bd7-a6a0c366107d",
   "metadata": {},
   "outputs": [],
   "source": [
    "# tokenizer3 = AutoTokenizer.from_pretrained(\"/Users/vedantmahangade/Projects/ML/PII-Data-Detection/checkpoint-852\")\n",
    "# model3 = AutoModelForTokenClassification.from_pretrained(\"/Users/vedantmahangade/Projects/ML/PII-Data-Detection/checkpoint-852\")"
   ]
  },
  {
   "cell_type": "code",
   "execution_count": 148,
   "id": "2163d7d8-f03a-4eff-adb4-c0717581054f",
   "metadata": {},
   "outputs": [],
   "source": [
    "# Distilbert_Classifier = pipeline(task = \"token-classification\"\n",
    "#                       , model=model3\n",
    "#                       , aggregation_strategy=\"average\"\n",
    "#                       , tokenizer=tokenizer3)"
   ]
  },
  {
   "cell_type": "markdown",
   "id": "239ffc88-8905-4267-b706-c59a2cebd35a",
   "metadata": {},
   "source": [
    "### Setting up the inputs for testing"
   ]
  },
  {
   "cell_type": "code",
   "execution_count": 12,
   "id": "0bc5913f-1a78-43c2-8d96-c851a912ba8b",
   "metadata": {},
   "outputs": [],
   "source": [
    "input1 = ''\n",
    "with open('data/test-essay-1.txt', 'r') as file:\n",
    "    input1 = file.read()\n",
    "\n",
    "input2 = ''\n",
    "with open('data/test-essay-2.txt', 'r') as file:\n",
    "    input2= file.read()\n",
    "\n",
    "input3 = ''\n",
    "with open('data/test-essay-3.txt', 'r') as file:\n",
    "    input3= file.read()\n",
    "\n",
    "input4 = 'I am a student at GWU and you can reach out to me through djones@gmail.com or (320) 202-688 5843'"
   ]
  },
  {
   "cell_type": "code",
   "execution_count": 13,
   "id": "de72862b-dd2c-46d5-9e56-4ea29b3f39a9",
   "metadata": {},
   "outputs": [
    {
     "name": "stdout",
     "output_type": "stream",
     "text": [
      "ASSIGNMENT-STORY TELLING (TO AVOID STUDENT DESERTION)\n",
      "\n",
      "CHALLENGE  I work in a public university, where many of the teachers do not have formal training, this fact has  been tried to remedy with a continuous training program of short courses, which covers various  academic subjects, but it does not solve the problem entirety. One of the areas in which it impacts, in  addition to some problems in the classroom, is that corresponding to the detection and follow-up of  the cases of students who have some motivation problem, which is one of the main desertion factors.  My challenge is to support to the administrative department in the detection and monitoring of the  bachelor students who present a problem of this nature in my courses of electronics. The risk of not  attending to these cases is that, if the terminal efficiency rate decreases, not only the students who  drop out are affected, but the educational program can be closed, due to the financial problems of  our institution. This program started in 2009 but does not yet run a tutorships formal program.\n",
      "\n",
      "SELECTION\n",
      "\n",
      "For these situations, several tools showed in this course could be used, but I have no experience with  them. The tool I have used is like story telling, when I seek to motivate to the young students with  some academic problem. My familiar origin is very similar to most of them, and throughout my life I  have accumulated a series of very hard experiences, which fortunately I have solved. Empathy is  fundamental, and I think is easier, to understand and feel, when we have experienced similar  situations. My hypothesis is that story telling is very useful for motivating students facing academic  problems.\n",
      "\n",
      "I have chosen story telling, because it is a design thinking tool that put the human being and their  experience front and center. Take the listener along their journey (video of course, week 2). In  addition, in accordance to some documents reviewed for this assignment, it also can be used in  different education ambits. “Storytelling, no matter in what form and created in whatever media is a  powerful  tool  to  transmit  knowledge,  culture,  perspectives  and  points  of  view”\n",
      "\n",
      "(http://www.jackson.com/appcategory.html). Personal stories are one recognized category among educational tools,  which involve significant events in life and can be emotionally charged and personally meaningful to  both the author and the viewer (DOI: 10.1080/00405840802153916). Story Telling is one of the tools  that has impressed me most, because I have seen its impact as part of the pitch of some entrepreneurs  (https://youtu.be/1pM3sb7AMPs), as well as when it is used to motivate an audience  (https://glenn.org/postsindex.jsp), or to increment the product  value (https://youtu.be/Kb-hqNGr5lJ, video shared in the course forum). In the last video, I also  learned that each of us has a long list of stories to make the connection with people with whom it is  necessary to share information.\n",
      "\n",
      "APPLICATION\n",
      "\n",
      "With the support of the administrative staff, we identify those students, who face problems and an  individual talk with me is proposed. One of the students of the last semester who failed a course, also  suffered from negative attitudes of his teacher, making him feel that he did not have the ability to  approve and that no one would support him. His family gives him a limited economically support, but  its condition is that the student approves all his courses. The student felt into a state of susceptibility  and lack of self-confidence. He was determined to return to his village.\n",
      "\n",
      "I told him a similar story that I had lived, in which I did abandon one course, because I suffered  harassment of my teacher. I showed him, that it was not the best decision, and that nobody, apart  from my classmates, knew about this situation, and that therefore I did not have orientation. I made  him see that this situation did not stop me but delayed one of my goals. I asked him to analyze my  case and think about some alternative solutions. He observed that there are always exits. I pointed  out to him that he could face his situation, that he had capacity and intelligence, and that regardless  of our humble origins we have as much value as other people, and that, in order to change our reality,  we need preparation. He began to study very hard and managed to get the best grade in his next  exam, his last chance to pass his course.\n",
      "\n",
      "As it can be seen, the information provided was transformed into knowledge by the student and  allowed him to acquire security to face his own challenge, regaining self-confidence. Story telling was  successfully used.\n",
      "\n",
      "INSIGHT\n",
      "\n",
      "The results obtained in the last semester with the use of story telling have been satisfactory, three  students assigned to me continue their studies. Stories were different in each case. These results  increase the confidence in story telling for this kind of cases. In general, we take care about the results  of our courses, but we do not always attend, in depth, the problems that our students face. I learned  that empathy must be a daily exercise, because around us there are young people that constantly  need to be heard and oriented. Telling stories in which the overcoming and constant struggle are  fundamental, makes them see that it is worth falling, but that we must work hard to arise and get  ahead. We must support others, we can together make our work or study place flourish, being more  human.\n",
      "\n",
      "In the course and in this assignment, I learned more aspects about story telling, and I understood its  potential in several areas. I had the opportunity to learn more design thinking tools that can support  my work, creating more appropriate environments and planning actions in a more structured way.\n",
      "\n",
      "APPROACH\n",
      "\n",
      "After the course, I know that there are several details of this tool, and that to improve its application  in my challenges, I must clearly identify them. I understand that is important to solve the problem but  also to create a cause. I must be careful with the story sequence, create suspense, ask and answer  questions, create moments of reflection and generate recommendations. For the next time I will try  to consider all these elements and other ones mentioned in the videos or suggested by other  trustworthy sources.\n",
      "\n",
      "There are other design tools that could be employed to reduce the desertion and other problems in  my job place. Co-creation design tool could be used. The participation of stakeholders is very  important. Ethnography also would be great, as well as brain storming, applying them as they were  explained in the course. We need to front the competition with other institutions with similar  educative programs, using adequate design tools, for each specific situation. We also need to create  our wow zone.\n"
     ]
    }
   ],
   "source": [
    "print(input3)"
   ]
  },
  {
   "cell_type": "code",
   "execution_count": 14,
   "id": "8ece2581-6346-4008-ba26-e10f8d9bed74",
   "metadata": {},
   "outputs": [
    {
     "data": {
      "text/plain": [
       "[{'entity_group': 'ID_NUM',\n",
       "  'score': 0.7537467,\n",
       "  'word': '10.1080/00405840802153916).',\n",
       "  'start': 2438,\n",
       "  'end': 2466},\n",
       " {'entity_group': 'URL_PERSONAL',\n",
       "  'score': 0.9839752,\n",
       "  'word': '(https://youtu.be/1pM3sb7AMPs),',\n",
       "  'start': 2604,\n",
       "  'end': 2636},\n",
       " {'entity_group': 'URL_PERSONAL',\n",
       "  'score': 0.98850375,\n",
       "  'word': '(https://glenn.org/postsindex.jsp),',\n",
       "  'start': 2688,\n",
       "  'end': 2724},\n",
       " {'entity_group': 'URL_PERSONAL',\n",
       "  'score': 0.98418635,\n",
       "  'word': '(https://youtu.be/Kb-hqNGr5lJ,',\n",
       "  'start': 2759,\n",
       "  'end': 2790}]"
      ]
     },
     "execution_count": 14,
     "metadata": {},
     "output_type": "execute_result"
    }
   ],
   "source": [
    "BigBird_Classifier(input3)"
   ]
  },
  {
   "cell_type": "code",
   "execution_count": 151,
   "id": "6f1c692b-d18f-4285-bebf-b7e6e9d12792",
   "metadata": {
    "scrolled": true
   },
   "outputs": [],
   "source": [
    "# Roberta_Classifier(input1)\n",
    "## Output\n",
    "## [{'entity_group': 'EMAIL',\n",
    "##   'score': 0.8319506,\n",
    "##   'word': ' djones@gmail.com',\n",
    "##   'start': 58,\n",
    "##   'end': 74},\n",
    "##  {'entity_group': 'PHONE_NUM',\n",
    "##   'score': 0.88202316,\n",
    "##   'word': ' (320) 202-688 5843',\n",
    "##   'start': 78,\n",
    "#3   'end': 96}]"
   ]
  },
  {
   "cell_type": "code",
   "execution_count": 149,
   "id": "debe8a38-e755-40aa-a766-324fa2562aaa",
   "metadata": {},
   "outputs": [],
   "source": [
    "# Distilbert_Classifier(input1)\n",
    "\n",
    "## Output:\n",
    "## [{'entity_group': 'ID_NUM',\n",
    "##   'score': 0.32248867,\n",
    "##   'word': '- 688 5843',\n",
    "##   'start': 87,\n",
    "##   'end': 96}]"
   ]
  }
 ],
 "metadata": {
  "kernelspec": {
   "display_name": "Python 3 (ipykernel)",
   "language": "python",
   "name": "python3"
  },
  "language_info": {
   "codemirror_mode": {
    "name": "ipython",
    "version": 3
   },
   "file_extension": ".py",
   "mimetype": "text/x-python",
   "name": "python",
   "nbconvert_exporter": "python",
   "pygments_lexer": "ipython3",
   "version": "3.11.9"
  }
 },
 "nbformat": 4,
 "nbformat_minor": 5
}
